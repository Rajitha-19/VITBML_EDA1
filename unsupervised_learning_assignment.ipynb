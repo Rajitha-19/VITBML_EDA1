{
  "nbformat": 4,
  "nbformat_minor": 0,
  "metadata": {
    "anaconda-cloud": {},
    "kernelspec": {
      "display_name": "Python 3",
      "language": "python",
      "name": "python3"
    },
    "language_info": {
      "codemirror_mode": {
        "name": "ipython",
        "version": 3
      },
      "file_extension": ".py",
      "mimetype": "text/x-python",
      "name": "python",
      "nbconvert_exporter": "python",
      "pygments_lexer": "ipython3",
      "version": "3.6.6"
    },
    "colab": {
      "name": "unsupervised-learning-assignment.ipynb",
      "provenance": [],
      "include_colab_link": true
    }
  },
  "cells": [
    {
      "cell_type": "markdown",
      "metadata": {
        "id": "view-in-github",
        "colab_type": "text"
      },
      "source": [
        "<a href=\"https://colab.research.google.com/github/Rajithaponduru/VITBML_EDA1/blob/master/unsupervised_learning_assignment.ipynb\" target=\"_parent\"><img src=\"https://colab.research.google.com/assets/colab-badge.svg\" alt=\"Open In Colab\"/></a>"
      ]
    },
    {
      "cell_type": "markdown",
      "metadata": {
        "_uuid": "fb758fbaa68c09ce13b31fd6982499c2212de2a1",
        "id": "IgqFvDHkqiT8",
        "colab_type": "text"
      },
      "source": [
        "# <center>Assignment: Unsupervised learning"
      ]
    },
    {
      "cell_type": "markdown",
      "metadata": {
        "_uuid": "19ed99767bc346b8cabd9c285c46d78341b68ac0",
        "id": "u0ku2JStqiT9",
        "colab_type": "text"
      },
      "source": [
        "In this task, we will look at how data dimensionality reduction and clustering methods work. At the same time, we'll practice solving classification task again.\n",
        "\n",
        "We will work with the [Samsung Human Activity Recognition](https://archive.ics.uci.edu/ml/datasets/Human+Activity+Recognition+Using+Smartphones) dataset. Download the data [here](https://drive.google.com/file/d/14RukQ0ylM2GCdViUHBBjZ2imCaYcjlux/view?usp=sharing). The data comes from accelerometers and gyros of Samsung Galaxy S3 mobile phones ( you can find more info about the features using the link above), the type of activity of a person with a phone in his/her pocket is also known – whether he/she walked, stood, lay, sat or walked up or down the stairs.\n",
        "\n",
        "First, we pretend that the type of activity is unknown to us, and we will try to cluster people purely on the basis of available features. Then we solve the problem of determining the type of physical activity as a classification problem.\n",
        "\n",
        "Fill the code where needed (\"Your code is here\") and answer the questions in the associated quiz on Edmodo"
      ]
    },
    {
      "cell_type": "code",
      "metadata": {
        "_uuid": "49d35cc6431c8053964544de63bb91e638db1fa9",
        "id": "ce-qNEzWqiT9",
        "colab_type": "code",
        "colab": {}
      },
      "source": [
        "import os\n",
        "import numpy as np\n",
        "import pandas as pd\n",
        "import seaborn as sns\n",
        "from tqdm import tqdm_notebook\n",
        "\n",
        "%matplotlib inline\n",
        "from matplotlib import pyplot as plt\n",
        "plt.style.use(['seaborn-darkgrid'])\n",
        "plt.rcParams['figure.figsize'] = (12, 9)\n",
        "plt.rcParams['font.family'] = 'DejaVu Sans'\n",
        "\n",
        "from sklearn import metrics\n",
        "from sklearn.cluster import KMeans, AgglomerativeClustering, SpectralClustering\n",
        "from sklearn.decomposition import PCA\n",
        "from sklearn.model_selection import GridSearchCV\n",
        "from sklearn.preprocessing import StandardScaler\n",
        "from sklearn.svm import LinearSVC\n",
        "\n",
        "RANDOM_STATE = 17"
      ],
      "execution_count": 0,
      "outputs": []
    },
    {
      "cell_type": "code",
      "metadata": {
        "_uuid": "5a288069f3a890d7a37113ef2800e8a7b1dd1afb",
        "id": "9BRvLDq6qiUB",
        "colab_type": "code",
        "colab": {}
      },
      "source": [
        "# change this if necessary\n",
        "PATH_TO_SAMSUNG_DATA = \"../input\""
      ],
      "execution_count": 0,
      "outputs": []
    },
    {
      "cell_type": "code",
      "metadata": {
        "_uuid": "75b935cdfe1e013aae43db776e8db37a20e2ac6b",
        "id": "iHYM1PX8qiUF",
        "colab_type": "code",
        "colab": {}
      },
      "source": [
        "X_train = np.loadtxt(os.path.join(PATH_TO_SAMSUNG_DATA, \"samsung_train.txt\"))\n",
        "y_train = np.loadtxt(os.path.join(PATH_TO_SAMSUNG_DATA,\n",
        "                                  \"samsung_train_labels.txt\")).astype(int)\n",
        "\n",
        "X_test = np.loadtxt(os.path.join(PATH_TO_SAMSUNG_DATA, \"samsung_test.txt\"))\n",
        "y_test = np.loadtxt(os.path.join(PATH_TO_SAMSUNG_DATA,\n",
        "                                  \"samsung_test_labels.txt\")).astype(int)"
      ],
      "execution_count": 0,
      "outputs": []
    },
    {
      "cell_type": "code",
      "metadata": {
        "_uuid": "98b267f6cfd624a0458dabdde5525b27970978bc",
        "id": "br9P55dOqiUK",
        "colab_type": "code",
        "colab": {}
      },
      "source": [
        "# Checking dimensions\n",
        "assert(X_train.shape == (7352, 561) and y_train.shape == (7352,))\n",
        "assert(X_test.shape == (2947, 561) and y_test.shape == (2947,))"
      ],
      "execution_count": 0,
      "outputs": []
    },
    {
      "cell_type": "markdown",
      "metadata": {
        "_uuid": "6ae636fe849d7d67db976feaa7ca2e25ba7c3795",
        "id": "IoEUycunqiUQ",
        "colab_type": "text"
      },
      "source": [
        "For clustering, we do not need a target vector, so we'll work with the combination of training and test samples. Merge `X_train` with `X_test`, and `y_train` with `y_test`."
      ]
    },
    {
      "cell_type": "code",
      "metadata": {
        "_uuid": "e57109377ec2f6c93542f038ccf57fc751f06812",
        "id": "sQty2x4lqiUR",
        "colab_type": "code",
        "colab": {}
      },
      "source": [
        "# Your code here"
      ],
      "execution_count": 0,
      "outputs": []
    },
    {
      "cell_type": "markdown",
      "metadata": {
        "_uuid": "77c4ccbe64c015a09874cff61bf751b0e7917ef4",
        "id": "5_eyDz20qiUV",
        "colab_type": "text"
      },
      "source": [
        "Define the number of unique values of the labels of the target class."
      ]
    },
    {
      "cell_type": "code",
      "metadata": {
        "_uuid": "5a92a3783a446acf928972d3ec418f29a0cff6e0",
        "id": "0iKV6JPcqiUW",
        "colab_type": "code",
        "colab": {}
      },
      "source": [
        "# np.unique(y)"
      ],
      "execution_count": 0,
      "outputs": []
    },
    {
      "cell_type": "code",
      "metadata": {
        "_uuid": "e29b5a97cba7305053fbe12985eb3abaf012eeb0",
        "id": "P82gwRN0qiUb",
        "colab_type": "code",
        "colab": {}
      },
      "source": [
        "# n_classes = np.unique(y).size"
      ],
      "execution_count": 0,
      "outputs": []
    },
    {
      "cell_type": "markdown",
      "metadata": {
        "_uuid": "3c878aa4cc63242a33b9d030efba7623bd8a5d2c",
        "id": "aw7irEPBqiUe",
        "colab_type": "text"
      },
      "source": [
        "[These labels correspond to:](https://archive.ics.uci.edu/ml/machine-learning-databases/00240/UCI%20HAR%20Dataset.names)\n",
        "- 1 – walking\n",
        "- 2 – walking upstairs\n",
        "- 3 – walking downstairs\n",
        "- 4 – sitting\n",
        "- 5 – standing\n",
        "- 6 – laying down"
      ]
    },
    {
      "cell_type": "markdown",
      "metadata": {
        "_uuid": "f2037a9432194f9a3d2f390ca2ad49a1ac1a6192",
        "id": "qJCzOWzPqiUe",
        "colab_type": "text"
      },
      "source": [
        "Scale the sample using `StandardScaler` with default parameters."
      ]
    },
    {
      "cell_type": "code",
      "metadata": {
        "_uuid": "70461dfacab8bd090d951e6114beaa40aa293919",
        "id": "yvZbcaDlqiUf",
        "colab_type": "code",
        "colab": {}
      },
      "source": [
        "# Your code here"
      ],
      "execution_count": 0,
      "outputs": []
    },
    {
      "cell_type": "markdown",
      "metadata": {
        "_uuid": "b7249210501c3396bddbf57cea47ac01a0d85170",
        "id": "5anrqpOZqiUi",
        "colab_type": "text"
      },
      "source": [
        "Reduce the number of dimensions using PCA, leaving as many components as necessary to explain at least 90% of the variance of the original (scaled) data. Use the scaled dataset and fix `random_state` (RANDOM_STATE constant)."
      ]
    },
    {
      "cell_type": "code",
      "metadata": {
        "_uuid": "2fc8993e03857d93b59e5e1e5800f494b23239be",
        "id": "B-6HFUHVqiUj",
        "colab_type": "code",
        "colab": {}
      },
      "source": [
        "# Your code here\n",
        "# pca = \n",
        "# X_pca = "
      ],
      "execution_count": 0,
      "outputs": []
    },
    {
      "cell_type": "markdown",
      "metadata": {
        "_uuid": "f0664d287ec08bb891d3c12fc87977bf92c97ae3",
        "id": "CwpmoYEpqiUo",
        "colab_type": "text"
      },
      "source": [
        "**Question 1:** <br>\n",
        "What is the minimum number of principal components required to cover the 90% of the variance of the original (scaled) data?"
      ]
    },
    {
      "cell_type": "code",
      "metadata": {
        "_uuid": "c67c5a22dec7dbc1bfa362d85ddad72334cb6ffb",
        "id": "aD82RDgCqiUp",
        "colab_type": "code",
        "colab": {}
      },
      "source": [
        "# Your code here"
      ],
      "execution_count": 0,
      "outputs": []
    },
    {
      "cell_type": "markdown",
      "metadata": {
        "_uuid": "a3d8270e6546cb8b38b7cd47909eff93d77716bc",
        "id": "sO_Go03CqiUs",
        "colab_type": "text"
      },
      "source": [
        "**Answer options:**\n",
        "- 56 \n",
        "- 65\n",
        "- 66\n",
        "- 193"
      ]
    },
    {
      "cell_type": "markdown",
      "metadata": {
        "_uuid": "baf5451408baf763d178b01a5d75e37105f4446e",
        "id": "0CdWbF8fqiUs",
        "colab_type": "text"
      },
      "source": [
        "**Question 2:**<br>\n",
        "What percentage of the variance is covered by the first principal component? Round to the nearest percent.\n",
        "\n",
        "**Answer options:**\n",
        "- 45\n",
        "- 51 \n",
        "- 56\n",
        "- 61"
      ]
    },
    {
      "cell_type": "code",
      "metadata": {
        "_uuid": "3fcec6dd81af6f09364cb011ba0994d4e5852f43",
        "id": "JYBKmf76qiUt",
        "colab_type": "code",
        "colab": {}
      },
      "source": [
        "# Your code here"
      ],
      "execution_count": 0,
      "outputs": []
    },
    {
      "cell_type": "markdown",
      "metadata": {
        "_uuid": "53787132590f0f8b8f9b44d47981f9de969b89f2",
        "id": "bzn8PSt7qiUv",
        "colab_type": "text"
      },
      "source": [
        "Visualize data in projection on the first two principal components."
      ]
    },
    {
      "cell_type": "code",
      "metadata": {
        "_uuid": "3ce508b33d3f0a1128265e57cad8b8093a71f8a6",
        "id": "z_RfjnlOqiUw",
        "colab_type": "code",
        "colab": {}
      },
      "source": [
        "# Your code here\n",
        "# plt.scatter(, , c=y, s=20, cmap='viridis');"
      ],
      "execution_count": 0,
      "outputs": []
    },
    {
      "cell_type": "markdown",
      "metadata": {
        "_uuid": "e54a8eb905c5d9b6180083fab0ef8f74ca582c62",
        "id": "83nZMvdJqiUy",
        "colab_type": "text"
      },
      "source": [
        "**Question 3:**<br>\n",
        "If everything worked out correctly, you will see a number of clusters, almost perfectly separated from each other. What types of activity are included in these clusters? <br>\n",
        "\n",
        "**Answer options:**\n",
        "- 1 cluster: all 6 activities\n",
        "- 2 clusters: (walking, walking upstairs, walking downstairs ) and (sitting, standing, laying)\n",
        "- 3 clusters: (walking), (walking upstairs, walking downstairs) and (sitting, standing, laying)\n",
        "- 6 clusters"
      ]
    },
    {
      "cell_type": "markdown",
      "metadata": {
        "_uuid": "8880c32278abd73e16764a6b842717cd783b66cf",
        "id": "rXqy3G-aqiUz",
        "colab_type": "text"
      },
      "source": [
        "------------------------------"
      ]
    },
    {
      "cell_type": "markdown",
      "metadata": {
        "_uuid": "37b0cfd306d225c21ae1e2a8abb882870a24271b",
        "id": "k_3MYQ3uqiUz",
        "colab_type": "text"
      },
      "source": [
        "Perform clustering with the `KMeans` method, training the model on data with reduced dimensionality (by PCA). In this case, we will give a clue to look for exactly 6 clusters, but in general case we will not know how many clusters we should be looking for.\n",
        "\n",
        "Options:\n",
        "\n",
        "- ** n_clusters ** = n_classes (number of unique labels of the target class)\n",
        "- ** n_init ** = 100\n",
        "- ** random_state ** = RANDOM_STATE (for reproducibility of the result)\n",
        "\n",
        "Other parameters should have default values."
      ]
    },
    {
      "cell_type": "code",
      "metadata": {
        "_uuid": "0d6d17a62f335bb062ea0e5134cb03ff60cb085b",
        "id": "pZ4uciWVqiU0",
        "colab_type": "code",
        "colab": {}
      },
      "source": [
        "# Your code here"
      ],
      "execution_count": 0,
      "outputs": []
    },
    {
      "cell_type": "markdown",
      "metadata": {
        "_uuid": "e34d43b9b3ebd34ad01c3a1d9d1a4dde85a4e832",
        "id": "58b1vORfqiU2",
        "colab_type": "text"
      },
      "source": [
        "Visualize data in projection on the first two principal components. Color the dots according to the clusters obtained."
      ]
    },
    {
      "cell_type": "code",
      "metadata": {
        "_uuid": "c05aa57fd57870aaa25543be822a75801a80b9a2",
        "id": "UJnMg_vAqiU3",
        "colab_type": "code",
        "colab": {}
      },
      "source": [
        "# Your code here\n",
        "# plt.scatter(, , c=cluster_labels, s=20, cmap='viridis');"
      ],
      "execution_count": 0,
      "outputs": []
    },
    {
      "cell_type": "markdown",
      "metadata": {
        "_uuid": "0d84b356e4e6f91f05fdb9a526ccfdb099523882",
        "id": "Svpg4sbNqiU5",
        "colab_type": "text"
      },
      "source": [
        "Look at the correspondence between the cluster marks and the original class labels and what kinds of activities the `KMeans` algorithm is confused at."
      ]
    },
    {
      "cell_type": "code",
      "metadata": {
        "_uuid": "617e35a6ce5f78fa73d315b5cdbcad8e29c8cf21",
        "id": "49VmPH4UqiU6",
        "colab_type": "code",
        "colab": {}
      },
      "source": [
        "# tab = pd.crosstab(y, cluster_labels, margins=True)\n",
        "# tab.index = ['walking', 'going up the stairs',\n",
        "#             'going down the stairs', 'sitting', 'standing', 'laying', 'all']\n",
        "# tab.columns = ['cluster' + str(i + 1) for i in range(6)] + ['all']\n",
        "# tab"
      ],
      "execution_count": 0,
      "outputs": []
    },
    {
      "cell_type": "markdown",
      "metadata": {
        "_uuid": "047f89c9981e696776ee98f87d0934ee1b08ed98",
        "id": "bMlK7z9oqiU_",
        "colab_type": "text"
      },
      "source": [
        "We see that for each class (i.e., each activity) there are several clusters. Let's look at the maximum percentage of objects in a class that are assigned to a single cluster. This will be a simple metric that characterizes how easily the class is separated from others when clustering.\n",
        "\n",
        "Example: if for class \"walking downstairs\" (with 1406 instances belonging to it), the distribution of clusters is:\n",
        " - cluster 1 - 900\n",
        " - cluster 3 - 500\n",
        " - cluster 6 - 6,\n",
        " \n",
        "then such a share will be 900/1406 $ \\approx $ 0.64.\n",
        " \n",
        "\n",
        "**Question 4:** <br>\n",
        "Which activity is separated from the rest better than others based on the simple metric described above? <br>\n",
        "\n",
        "**Answer:**\n",
        "- walking\n",
        "- standing\n",
        "- walking downstairs\n",
        "- all three options are incorrect"
      ]
    },
    {
      "cell_type": "markdown",
      "metadata": {
        "_uuid": "c51f76505725d754a6d54f7bd01dedff7d5dc288",
        "id": "Kn-uPOdrqiU_",
        "colab_type": "text"
      },
      "source": [
        "It can be seen that kMeans does not distinguish activities very well. Use the elbow method to select the optimal number of clusters. Parameters of the algorithm and the data we use are the same as before, we change only `n_clusters`."
      ]
    },
    {
      "cell_type": "code",
      "metadata": {
        "_uuid": "90c60a1f8bce02bfedd8233190b7ff81fb134d35",
        "id": "XEEmASOIqiVA",
        "colab_type": "code",
        "colab": {}
      },
      "source": [
        "# # Your code here\n",
        "# inertia = []\n",
        "# for k in tqdm_notebook(range(1, n_classes + 1)):\n",
        "#     pass"
      ],
      "execution_count": 0,
      "outputs": []
    },
    {
      "cell_type": "markdown",
      "metadata": {
        "_uuid": "5f9d80ac0bea5173134d880a5c1faf233456cd12",
        "id": "r2BZkOyCqiVD",
        "colab_type": "text"
      },
      "source": [
        "**Question 5:** <br>\n",
        "How many clusters can we choose according to the elbow method? <br>\n",
        "\n",
        "**Answer options:**\n",
        "- 1\n",
        "- 2\n",
        "- 3\n",
        "- 4"
      ]
    },
    {
      "cell_type": "markdown",
      "metadata": {
        "_uuid": "f4b2c7c0bf71844e2aa1981b20bee09d9064255d",
        "id": "BMzw4HfIqiVD",
        "colab_type": "text"
      },
      "source": [
        "------------------------"
      ]
    },
    {
      "cell_type": "markdown",
      "metadata": {
        "_uuid": "234da989840379595bc0e65f6c1f81b78eddf19f",
        "id": "6QBHLFGKqiVE",
        "colab_type": "text"
      },
      "source": [
        "Let's try another clustering algorithm, described in the article – agglomerative clustering."
      ]
    },
    {
      "cell_type": "code",
      "metadata": {
        "_uuid": "1b6a2ea741788687a5f650ae5489385ffa8246cf",
        "id": "1pTahpF-qiVE",
        "colab_type": "code",
        "colab": {}
      },
      "source": [
        "# ag = AgglomerativeClustering(n_clusters=n_classes, \n",
        "#                              linkage='ward').fit(X_pca)"
      ],
      "execution_count": 0,
      "outputs": []
    },
    {
      "cell_type": "markdown",
      "metadata": {
        "_uuid": "e7865fcf352c96efef317c24b424233acd0c5dd3",
        "id": "Hke6cknZqiVH",
        "colab_type": "text"
      },
      "source": [
        "Calculate the Adjusted Rand Index (`sklearn.metrics`) for the resulting clustering and for ` KMeans` with the parameters from the 4th question.\n",
        "\n",
        "This is an opportunity for you to learn accuracy metric for Clustering. As opposed to classfication, it is difficult to assess the quality of results from clustering. Here, a metric cannot depend on the labels but only on the goodness of split. Secondly, we do not usually have true labels of the observations when we use clustering.\n",
        "\n",
        "sklearn.metrics have several implementations\n",
        "\n",
        "### [Adjusted Rand Index (ARI)](https://scikit-learn.org/stable/modules/generated/sklearn.metrics.adjusted_rand_score.html)\n",
        "ARI assumes that you know the labels, in this case we know the labels y. It measures how well are the cluster splits in terms of same label observations being together and different label obervations being in different cluster. Its value ranges between -1 and 1, with -1 being bad and 1 being best.\n",
        "\n",
        "### [Adjusted Mututal Information (AMI)](https://scikit-learn.org/stable/modules/generated/sklearn.metrics.adjusted_mutual_info_score.html)\n",
        "It is similar to ARI but it uses entropy withing the clusters (if a cluster has multiple lables its entropy will be high). It ranges between 0 and 1\n",
        "\n",
        "### [Homogeneity (h), completeness (c), V-measure](https://scikit-learn.org/stable/modules/generated/sklearn.metrics.v_measure_score.html)\n",
        "Name must make sense.  h  evaluates whether each cluster is composed of same class objects, and  c  measures how well the same class objects fit the clusters. \n",
        "V measure is combination of homogeniety and completeness (harmonic mean just as the F measure in precision and recall)\n",
        "\n",
        "### [Silhouette](https://scikit-learn.org/stable/modules/generated/sklearn.metrics.silhouette_score.html)\n",
        "The silhouette distance shows to which extent the distance between the objects of the same class differ from the mean distance between the objects from different clusters. It ranges from -1 to 1 with -1 being bad and 1 being good. It does not assume that you know the labels and only depends upon the clusters. (different from the previous 3 measures)\n",
        "\n",
        "\n",
        "* Here you have to use ARI"
      ]
    },
    {
      "cell_type": "code",
      "metadata": {
        "_uuid": "6d934179759ebf8159a6879c6e906a6a4d44544e",
        "id": "FnMf2lbsqiVH",
        "colab_type": "code",
        "colab": {}
      },
      "source": [
        "# Your code here"
      ],
      "execution_count": 0,
      "outputs": []
    },
    {
      "cell_type": "markdown",
      "metadata": {
        "_uuid": "ccee7b5d2d1155ebe672cec4282bb06af01f87a4",
        "id": "a8uidnTEqiVK",
        "colab_type": "text"
      },
      "source": [
        "**Question 6:** <br>\n",
        "Select all the correct statements. <br>\n",
        "\n",
        "**Answer options:**\n",
        "- According to ARI, KMeans handled clustering worse than Agglomerative Clustering \n",
        "- For ARI, it does not matter which tags are assigned to the cluster, only the partitioning of instances into clusters matters \n",
        "- In case of random partitioning into clusters, ARI will be close to zero "
      ]
    },
    {
      "cell_type": "markdown",
      "metadata": {
        "_uuid": "1367c265153403060e4e0bd69fe578cfafd03678",
        "id": "MDsZbCEfqiVL",
        "colab_type": "text"
      },
      "source": [
        "-------------------------------"
      ]
    },
    {
      "cell_type": "markdown",
      "metadata": {
        "_uuid": "eadfcc38dded52cc91f75a422a6eff8f1a5993c7",
        "id": "lS31YzY5qiVM",
        "colab_type": "text"
      },
      "source": [
        "You can notice that the task is not very well solved when we try to detect several clusters (> 2). Now, let's solve the classification problem, given that the data is labeled.\n",
        "\n",
        "For classification, use the support vector machine – class `sklearn.svm.LinearSVC`. In this course, we did study this algorithm separately, but it is well-known and you can read about it, for example [here](http://cs231n.github.io/linear-classify/#svmvssoftmax).\n",
        "\n",
        "Choose the `C` hyperparameter for` LinearSVC` using `GridSearchCV`.\n",
        "\n",
        "- Train the new `StandardScaler` on the training set (with all original features), apply scaling to the test set\n",
        "- In `GridSearchCV`, specify `cv` = 3."
      ]
    },
    {
      "cell_type": "code",
      "metadata": {
        "_uuid": "61151d2f16a8beb49e7635e95ea55129f6e984ac",
        "id": "XQvaJk9nqiVN",
        "colab_type": "code",
        "colab": {}
      },
      "source": [
        "# # Your code here\n",
        "# scaler = StandardScaler()\n",
        "# X_train_scaled =\n",
        "# X_test_scaled = "
      ],
      "execution_count": 0,
      "outputs": []
    },
    {
      "cell_type": "code",
      "metadata": {
        "_uuid": "7b0c661771542832de4f923b5206f6c8df1aa508",
        "id": "BG7MXFwQqiVR",
        "colab_type": "code",
        "colab": {}
      },
      "source": [
        "svc = LinearSVC(random_state=RANDOM_STATE)\n",
        "svc_params = {'C': [0.001, 0.01, 0.1, 1, 10]}"
      ],
      "execution_count": 0,
      "outputs": []
    },
    {
      "cell_type": "code",
      "metadata": {
        "_uuid": "3f0573b69142f89a7a4f4852c4a1366b7f85270b",
        "id": "yeGykSrhqiVT",
        "colab_type": "code",
        "colab": {}
      },
      "source": [
        "# %%time\n",
        "# # Your code here\n",
        "# best_svc = None"
      ],
      "execution_count": 0,
      "outputs": []
    },
    {
      "cell_type": "code",
      "metadata": {
        "_uuid": "4cff688492768e0f226b0aff08d4eb07450ed4ce",
        "id": "wPgz5nSwqiVX",
        "colab_type": "code",
        "colab": {}
      },
      "source": [
        "# best_svc.best_params_, best_svc.best_score_"
      ],
      "execution_count": 0,
      "outputs": []
    },
    {
      "cell_type": "markdown",
      "metadata": {
        "_uuid": "b6214f9ec00411039cde3237ed7891053d9d8c5d",
        "id": "7qM51eqrqiVZ",
        "colab_type": "text"
      },
      "source": [
        "**Question 7**<br>\n",
        "Which value of the hyperparameter `C` was chosen the best on the basis of cross-validation? <br>\n",
        "\n",
        "**Answer options:**\n",
        "- 0.001\n",
        "- 0.01\n",
        "- 0.1 \n",
        "- 1\n",
        "- 10"
      ]
    },
    {
      "cell_type": "code",
      "metadata": {
        "_uuid": "02e74bf62e37fbad5df8a685d6b06b2c9a48daaf",
        "id": "MxwkBTsUqiVZ",
        "colab_type": "code",
        "colab": {}
      },
      "source": [
        "# y_predicted = best_svc.predict(X_test_scaled)"
      ],
      "execution_count": 0,
      "outputs": []
    },
    {
      "cell_type": "code",
      "metadata": {
        "_uuid": "3e9804082d8a9eb666149074a8d1983ccb19ae2d",
        "id": "fCp3X_XlqiVd",
        "colab_type": "code",
        "colab": {}
      },
      "source": [
        "# tab = pd.crosstab(y_test, y_predicted, margins=True)\n",
        "# tab.index = ['walking', 'climbing up the stairs',\n",
        "#              'going down the stairs', 'sitting', 'standing', 'laying', 'all']\n",
        "# tab.columns = ['walking', 'climbing up the stairs',\n",
        "#              'going down the stairs', 'sitting', 'standing', 'laying', 'all']\n",
        "# tab"
      ],
      "execution_count": 0,
      "outputs": []
    },
    {
      "cell_type": "markdown",
      "metadata": {
        "_uuid": "f1bae145f1034a9c42679e73240cd0860bc207c6",
        "id": "CNC0TXdqqiVg",
        "colab_type": "text"
      },
      "source": [
        "**Question 8:** <br>\n",
        "Which activity type is worst detected by SVM in terms of precision? Recall?<br>\n",
        "\n",
        "**Answer options:**\n",
        "- precision – going up the stairs, recall – laying\n",
        "- precision – laying, recall – sitting\n",
        "- precision – walking, recall – walking\n",
        "- precision – standing, recall – sitting "
      ]
    },
    {
      "cell_type": "markdown",
      "metadata": {
        "_uuid": "472b5dadcd567b019cc6cd729a3917459207df14",
        "id": "_ipH-YdAqiVh",
        "colab_type": "text"
      },
      "source": [
        "Finally, do the same thing as in Question 7, but add PCA.\n",
        "\n",
        "- Use `X_train_scaled` and` X_test_scaled`\n",
        "- Train the same PCA as before, on the scaled training set, apply scaling to the test set\n",
        "- Choose the hyperparameter `C` via cross-validation on the training set with PCA-transformation. You will notice how much faster it works now.\n",
        "\n",
        "**Question 9:** <br>\n",
        "What is the difference between the best quality (accuracy) for cross-validation in the case of all 561 initial characteristics and in the second case, when the principal component method was applied? Round to the nearest percent. <br>\n",
        "\n",
        "**Options:**\n",
        "- quality is the same\n",
        "- 2%\n",
        "- 4%\n",
        "- 10%\n",
        "- 20%"
      ]
    },
    {
      "cell_type": "code",
      "metadata": {
        "_uuid": "51508ed1cc529287af7cb3ebe62c5112bd4e5d19",
        "id": "W7ZLRsMxqiVh",
        "colab_type": "code",
        "colab": {}
      },
      "source": [
        "# Your code here"
      ],
      "execution_count": 0,
      "outputs": []
    },
    {
      "cell_type": "markdown",
      "metadata": {
        "_uuid": "01dc096cb4ea5717d8709f2a7581574211753cf8",
        "id": "Jq5_Yq9UqiVk",
        "colab_type": "text"
      },
      "source": [
        "**Question 10:** <br>\n",
        "Select all the correct statements:\n",
        "\n",
        "**Answer options:**\n",
        "- Principal component analysis in this case allowed to reduce the model training time, while the quality (mean cross-validation accuracy) suffered greatly, by more than 10%\n",
        "- PCA can be used to visualize data, but there are better methods for this task, for example, [tSNE](https://scikit-learn.org/stable/modules/generated/sklearn.manifold.TSNE.html). However, PCA has lower computational complexity \n",
        "- PCA builds linear combinations of initial features, and in some applications they might be poorly interpreted by humans "
      ]
    }
  ]
}