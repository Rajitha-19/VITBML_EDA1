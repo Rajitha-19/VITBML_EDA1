{
  "nbformat": 4,
  "nbformat_minor": 0,
  "metadata": {
    "colab": {
      "name": "Untitled29.ipynb",
      "provenance": [],
      "collapsed_sections": [],
      "toc_visible": true,
      "authorship_tag": "ABX9TyNkTmWQOJlYU6eqOLpt8mPH",
      "include_colab_link": true
    },
    "kernelspec": {
      "name": "python3",
      "display_name": "Python 3"
    }
  },
  "cells": [
    {
      "cell_type": "markdown",
      "metadata": {
        "id": "view-in-github",
        "colab_type": "text"
      },
      "source": [
        "<a href=\"https://colab.research.google.com/github/Rajithaponduru/VITBML_EDA1/blob/master/Untitled29.ipynb\" target=\"_parent\"><img src=\"https://colab.research.google.com/assets/colab-badge.svg\" alt=\"Open In Colab\"/></a>"
      ]
    },
    {
      "cell_type": "code",
      "metadata": {
        "id": "bLwtUNJ1GwPA",
        "colab_type": "code",
        "colab": {}
      },
      "source": [
        "import numpy as np\n",
        "import pandas as pd \n",
        "import matplotlib.pyplot as plt\n",
        "import seaborn as sn\n",
        "import pylab as pl\n",
        "from sklearn.cluster import KMeans\n",
        "from sklearn.decomposition import PCA\n",
        "%matplotlib inline\n",
        "\n"
      ],
      "execution_count": 0,
      "outputs": []
    },
    {
      "cell_type": "code",
      "metadata": {
        "id": "MDpVxt-1Ibux",
        "colab_type": "code",
        "colab": {}
      },
      "source": [
        "filenames=[\"/content/01-22-2020.csv\",\"/content/01-23-2020.csv\",\"/content/01-27-2020.csv\",\"/content/01-28-2020.csv\",\"/content/01-29-2020.csv\",\"/content/01-30-2020.csv\",\"/content/01-31-2020.csv\",\"/content/02-01-2020.csv\",\"/content/02-02-2020.csv\",\"/content/02-03-2020.csv\",\"/content/02-04-2020.csv\",\"/content/02-05-2020.csv\",\"/content/02-09-2020.csv\",\"/content/02-10-2020.csv\",\"/content/02-11-2020\"]"
      ],
      "execution_count": 0,
      "outputs": []
    },
    {
      "cell_type": "markdown",
      "metadata": {
        "id": "tBONMefgM71y",
        "colab_type": "text"
      },
      "source": [
        "**DATASET DESCRIPTION**\n",
        "\n",
        "In response to the COVID-19 pandemic, the White House and a coalition of leading research groups have prepared the COVID-19 Open Research Dataset (CORD-19). CORD-19 is a resource of over 29,000 scholarly articles, including over 13,000 with full text, about COVID-19, SARS-CoV-2, and related coronaviruses. This freely available dataset is provided to the global research community to apply recent advances in natural language processing and other AI techniques to generate new insights in support of the ongoing fight against this infectious disease. There is a growing urgency for these approaches because of the rapid acceleration in new coronavirus literature, making it difficult for the medical research community to keep up.\n",
        "\n"
      ]
    },
    {
      "cell_type": "code",
      "metadata": {
        "id": "-AfSoCTTKQNC",
        "colab_type": "code",
        "colab": {}
      },
      "source": [
        "df1=pd.read_csv(\"/content/01-22-2020.csv\")\n",
        "df2=pd.read_csv(\"/content/01-23-2020.csv\")\n",
        "df3=pd.read_csv(\"/content/01-27-2020.csv\")\n",
        "df4=pd.read_csv(\"/content/01-28-2020.csv\")\n",
        "df5=pd.read_csv(\"/content/01-29-2020.csv\")\n",
        "df6=pd.read_csv(\"/content/01-30-2020.csv\")\n",
        "df7=pd.read_csv(\"/content/01-31-2020.csv\")\n",
        "df8=pd.read_csv(\"/content/02-01-2020.csv\")\n",
        "df9=pd.read_csv(\"/content/02-02-2020.csv\")\n",
        "df10=pd.read_csv(\"/content/02-03-2020.csv\")\n",
        "df11=pd.read_csv(\"/content/02-04-2020.csv\")\n",
        "df12=pd.read_csv(\"/content/02-05-2020.csv\")\n",
        "df13=pd.read_csv(\"/content/02-09-2020.csv\")\n",
        "df14=pd.read_csv(\"/content/02-10-2020.csv\")\n"
      ],
      "execution_count": 0,
      "outputs": []
    },
    {
      "cell_type": "code",
      "metadata": {
        "id": "Ts2vW1eVMMTK",
        "colab_type": "code",
        "outputId": "df7f867c-bae6-41fa-a298-3be6fc56cca0",
        "colab": {
          "base_uri": "https://localhost:8080/",
          "height": 255
        }
      },
      "source": [
        "df=pd.concat([df1,df2,df3,df4,df5,df6,df7,df8,df9,df10,df11,df12,df13,df14])\n",
        "print(df)"
      ],
      "execution_count": 0,
      "outputs": [
        {
          "output_type": "stream",
          "text": [
            "     Province/State  Country/Region  ... Deaths  Recovered\n",
            "0             Anhui  Mainland China  ...    NaN        NaN\n",
            "1           Beijing  Mainland China  ...    NaN        NaN\n",
            "2         Chongqing  Mainland China  ...    NaN        NaN\n",
            "3            Fujian  Mainland China  ...    NaN        NaN\n",
            "4             Gansu  Mainland China  ...    NaN        NaN\n",
            "..              ...             ...  ...    ...        ...\n",
            "67  Los Angeles, CA              US  ...    0.0        0.0\n",
            "68      Madison, WI              US  ...    0.0        0.0\n",
            "69       Orange, CA              US  ...    0.0        0.0\n",
            "70      Seattle, WA              US  ...    0.0        1.0\n",
            "71        Tempe, AZ              US  ...    0.0        0.0\n",
            "\n",
            "[848 rows x 6 columns]\n"
          ],
          "name": "stdout"
        }
      ]
    },
    {
      "cell_type": "code",
      "metadata": {
        "id": "SC1kpjm_MbQb",
        "colab_type": "code",
        "outputId": "82a0ed42-b4d6-4c1d-e9d7-5b85695c77d8",
        "colab": {
          "base_uri": "https://localhost:8080/",
          "height": 255
        }
      },
      "source": [
        "p=df.fillna(0)\n",
        "print(p)"
      ],
      "execution_count": 0,
      "outputs": [
        {
          "output_type": "stream",
          "text": [
            "     Province/State  Country/Region  ... Deaths  Recovered\n",
            "0             Anhui  Mainland China  ...    0.0        0.0\n",
            "1           Beijing  Mainland China  ...    0.0        0.0\n",
            "2         Chongqing  Mainland China  ...    0.0        0.0\n",
            "3            Fujian  Mainland China  ...    0.0        0.0\n",
            "4             Gansu  Mainland China  ...    0.0        0.0\n",
            "..              ...             ...  ...    ...        ...\n",
            "67  Los Angeles, CA              US  ...    0.0        0.0\n",
            "68      Madison, WI              US  ...    0.0        0.0\n",
            "69       Orange, CA              US  ...    0.0        0.0\n",
            "70      Seattle, WA              US  ...    0.0        1.0\n",
            "71        Tempe, AZ              US  ...    0.0        0.0\n",
            "\n",
            "[848 rows x 6 columns]\n"
          ],
          "name": "stdout"
        }
      ]
    },
    {
      "cell_type": "code",
      "metadata": {
        "id": "2MyNt_aaMn4Z",
        "colab_type": "code",
        "outputId": "4b59c422-1414-49e3-e345-99f912bd8d12",
        "colab": {
          "base_uri": "https://localhost:8080/",
          "height": 419
        }
      },
      "source": [
        "p.drop(\"Province/State\",axis=1)"
      ],
      "execution_count": 0,
      "outputs": [
        {
          "output_type": "execute_result",
          "data": {
            "text/html": [
              "<div>\n",
              "<style scoped>\n",
              "    .dataframe tbody tr th:only-of-type {\n",
              "        vertical-align: middle;\n",
              "    }\n",
              "\n",
              "    .dataframe tbody tr th {\n",
              "        vertical-align: top;\n",
              "    }\n",
              "\n",
              "    .dataframe thead th {\n",
              "        text-align: right;\n",
              "    }\n",
              "</style>\n",
              "<table border=\"1\" class=\"dataframe\">\n",
              "  <thead>\n",
              "    <tr style=\"text-align: right;\">\n",
              "      <th></th>\n",
              "      <th>Country/Region</th>\n",
              "      <th>Last Update</th>\n",
              "      <th>Confirmed</th>\n",
              "      <th>Deaths</th>\n",
              "      <th>Recovered</th>\n",
              "    </tr>\n",
              "  </thead>\n",
              "  <tbody>\n",
              "    <tr>\n",
              "      <th>0</th>\n",
              "      <td>Mainland China</td>\n",
              "      <td>1/22/2020 17:00</td>\n",
              "      <td>1.0</td>\n",
              "      <td>0.0</td>\n",
              "      <td>0.0</td>\n",
              "    </tr>\n",
              "    <tr>\n",
              "      <th>1</th>\n",
              "      <td>Mainland China</td>\n",
              "      <td>1/22/2020 17:00</td>\n",
              "      <td>14.0</td>\n",
              "      <td>0.0</td>\n",
              "      <td>0.0</td>\n",
              "    </tr>\n",
              "    <tr>\n",
              "      <th>2</th>\n",
              "      <td>Mainland China</td>\n",
              "      <td>1/22/2020 17:00</td>\n",
              "      <td>6.0</td>\n",
              "      <td>0.0</td>\n",
              "      <td>0.0</td>\n",
              "    </tr>\n",
              "    <tr>\n",
              "      <th>3</th>\n",
              "      <td>Mainland China</td>\n",
              "      <td>1/22/2020 17:00</td>\n",
              "      <td>1.0</td>\n",
              "      <td>0.0</td>\n",
              "      <td>0.0</td>\n",
              "    </tr>\n",
              "    <tr>\n",
              "      <th>4</th>\n",
              "      <td>Mainland China</td>\n",
              "      <td>1/22/2020 17:00</td>\n",
              "      <td>0.0</td>\n",
              "      <td>0.0</td>\n",
              "      <td>0.0</td>\n",
              "    </tr>\n",
              "    <tr>\n",
              "      <th>...</th>\n",
              "      <td>...</td>\n",
              "      <td>...</td>\n",
              "      <td>...</td>\n",
              "      <td>...</td>\n",
              "      <td>...</td>\n",
              "    </tr>\n",
              "    <tr>\n",
              "      <th>67</th>\n",
              "      <td>US</td>\n",
              "      <td>2020-02-01T19:53:03</td>\n",
              "      <td>1.0</td>\n",
              "      <td>0.0</td>\n",
              "      <td>0.0</td>\n",
              "    </tr>\n",
              "    <tr>\n",
              "      <th>68</th>\n",
              "      <td>US</td>\n",
              "      <td>2020-02-05T21:53:02</td>\n",
              "      <td>1.0</td>\n",
              "      <td>0.0</td>\n",
              "      <td>0.0</td>\n",
              "    </tr>\n",
              "    <tr>\n",
              "      <th>69</th>\n",
              "      <td>US</td>\n",
              "      <td>2020-02-01T19:53:03</td>\n",
              "      <td>1.0</td>\n",
              "      <td>0.0</td>\n",
              "      <td>0.0</td>\n",
              "    </tr>\n",
              "    <tr>\n",
              "      <th>70</th>\n",
              "      <td>US</td>\n",
              "      <td>2020-02-09T07:03:04</td>\n",
              "      <td>1.0</td>\n",
              "      <td>0.0</td>\n",
              "      <td>1.0</td>\n",
              "    </tr>\n",
              "    <tr>\n",
              "      <th>71</th>\n",
              "      <td>US</td>\n",
              "      <td>2020-02-01T19:43:03</td>\n",
              "      <td>1.0</td>\n",
              "      <td>0.0</td>\n",
              "      <td>0.0</td>\n",
              "    </tr>\n",
              "  </tbody>\n",
              "</table>\n",
              "<p>848 rows × 5 columns</p>\n",
              "</div>"
            ],
            "text/plain": [
              "    Country/Region          Last Update  Confirmed  Deaths  Recovered\n",
              "0   Mainland China      1/22/2020 17:00        1.0     0.0        0.0\n",
              "1   Mainland China      1/22/2020 17:00       14.0     0.0        0.0\n",
              "2   Mainland China      1/22/2020 17:00        6.0     0.0        0.0\n",
              "3   Mainland China      1/22/2020 17:00        1.0     0.0        0.0\n",
              "4   Mainland China      1/22/2020 17:00        0.0     0.0        0.0\n",
              "..             ...                  ...        ...     ...        ...\n",
              "67              US  2020-02-01T19:53:03        1.0     0.0        0.0\n",
              "68              US  2020-02-05T21:53:02        1.0     0.0        0.0\n",
              "69              US  2020-02-01T19:53:03        1.0     0.0        0.0\n",
              "70              US  2020-02-09T07:03:04        1.0     0.0        1.0\n",
              "71              US  2020-02-01T19:43:03        1.0     0.0        0.0\n",
              "\n",
              "[848 rows x 5 columns]"
            ]
          },
          "metadata": {
            "tags": []
          },
          "execution_count": 52
        }
      ]
    },
    {
      "cell_type": "code",
      "metadata": {
        "id": "732kLH40MsD8",
        "colab_type": "code",
        "outputId": "a5b1e793-5f98-4aaa-fdfa-d82573ee1c92",
        "colab": {
          "base_uri": "https://localhost:8080/",
          "height": 419
        }
      },
      "source": [
        "df=p.drop([\"Last Update\",\"Province/State\"],axis=1)\n",
        "df"
      ],
      "execution_count": 0,
      "outputs": [
        {
          "output_type": "execute_result",
          "data": {
            "text/html": [
              "<div>\n",
              "<style scoped>\n",
              "    .dataframe tbody tr th:only-of-type {\n",
              "        vertical-align: middle;\n",
              "    }\n",
              "\n",
              "    .dataframe tbody tr th {\n",
              "        vertical-align: top;\n",
              "    }\n",
              "\n",
              "    .dataframe thead th {\n",
              "        text-align: right;\n",
              "    }\n",
              "</style>\n",
              "<table border=\"1\" class=\"dataframe\">\n",
              "  <thead>\n",
              "    <tr style=\"text-align: right;\">\n",
              "      <th></th>\n",
              "      <th>Country/Region</th>\n",
              "      <th>Confirmed</th>\n",
              "      <th>Deaths</th>\n",
              "      <th>Recovered</th>\n",
              "    </tr>\n",
              "  </thead>\n",
              "  <tbody>\n",
              "    <tr>\n",
              "      <th>0</th>\n",
              "      <td>Mainland China</td>\n",
              "      <td>1.0</td>\n",
              "      <td>0.0</td>\n",
              "      <td>0.0</td>\n",
              "    </tr>\n",
              "    <tr>\n",
              "      <th>1</th>\n",
              "      <td>Mainland China</td>\n",
              "      <td>14.0</td>\n",
              "      <td>0.0</td>\n",
              "      <td>0.0</td>\n",
              "    </tr>\n",
              "    <tr>\n",
              "      <th>2</th>\n",
              "      <td>Mainland China</td>\n",
              "      <td>6.0</td>\n",
              "      <td>0.0</td>\n",
              "      <td>0.0</td>\n",
              "    </tr>\n",
              "    <tr>\n",
              "      <th>3</th>\n",
              "      <td>Mainland China</td>\n",
              "      <td>1.0</td>\n",
              "      <td>0.0</td>\n",
              "      <td>0.0</td>\n",
              "    </tr>\n",
              "    <tr>\n",
              "      <th>4</th>\n",
              "      <td>Mainland China</td>\n",
              "      <td>0.0</td>\n",
              "      <td>0.0</td>\n",
              "      <td>0.0</td>\n",
              "    </tr>\n",
              "    <tr>\n",
              "      <th>...</th>\n",
              "      <td>...</td>\n",
              "      <td>...</td>\n",
              "      <td>...</td>\n",
              "      <td>...</td>\n",
              "    </tr>\n",
              "    <tr>\n",
              "      <th>67</th>\n",
              "      <td>US</td>\n",
              "      <td>1.0</td>\n",
              "      <td>0.0</td>\n",
              "      <td>0.0</td>\n",
              "    </tr>\n",
              "    <tr>\n",
              "      <th>68</th>\n",
              "      <td>US</td>\n",
              "      <td>1.0</td>\n",
              "      <td>0.0</td>\n",
              "      <td>0.0</td>\n",
              "    </tr>\n",
              "    <tr>\n",
              "      <th>69</th>\n",
              "      <td>US</td>\n",
              "      <td>1.0</td>\n",
              "      <td>0.0</td>\n",
              "      <td>0.0</td>\n",
              "    </tr>\n",
              "    <tr>\n",
              "      <th>70</th>\n",
              "      <td>US</td>\n",
              "      <td>1.0</td>\n",
              "      <td>0.0</td>\n",
              "      <td>1.0</td>\n",
              "    </tr>\n",
              "    <tr>\n",
              "      <th>71</th>\n",
              "      <td>US</td>\n",
              "      <td>1.0</td>\n",
              "      <td>0.0</td>\n",
              "      <td>0.0</td>\n",
              "    </tr>\n",
              "  </tbody>\n",
              "</table>\n",
              "<p>848 rows × 4 columns</p>\n",
              "</div>"
            ],
            "text/plain": [
              "    Country/Region  Confirmed  Deaths  Recovered\n",
              "0   Mainland China        1.0     0.0        0.0\n",
              "1   Mainland China       14.0     0.0        0.0\n",
              "2   Mainland China        6.0     0.0        0.0\n",
              "3   Mainland China        1.0     0.0        0.0\n",
              "4   Mainland China        0.0     0.0        0.0\n",
              "..             ...        ...     ...        ...\n",
              "67              US        1.0     0.0        0.0\n",
              "68              US        1.0     0.0        0.0\n",
              "69              US        1.0     0.0        0.0\n",
              "70              US        1.0     0.0        1.0\n",
              "71              US        1.0     0.0        0.0\n",
              "\n",
              "[848 rows x 4 columns]"
            ]
          },
          "metadata": {
            "tags": []
          },
          "execution_count": 53
        }
      ]
    },
    {
      "cell_type": "code",
      "metadata": {
        "id": "3Gzxaja0MwdO",
        "colab_type": "code",
        "outputId": "4274ee77-91d2-46e6-c23a-d1b67aa0e243",
        "colab": {
          "base_uri": "https://localhost:8080/",
          "height": 204
        }
      },
      "source": [
        "df.info()"
      ],
      "execution_count": 0,
      "outputs": [
        {
          "output_type": "stream",
          "text": [
            "<class 'pandas.core.frame.DataFrame'>\n",
            "Int64Index: 848 entries, 0 to 71\n",
            "Data columns (total 4 columns):\n",
            " #   Column          Non-Null Count  Dtype  \n",
            "---  ------          --------------  -----  \n",
            " 0   Country/Region  848 non-null    object \n",
            " 1   Confirmed       848 non-null    float64\n",
            " 2   Deaths          848 non-null    float64\n",
            " 3   Recovered       848 non-null    float64\n",
            "dtypes: float64(3), object(1)\n",
            "memory usage: 33.1+ KB\n"
          ],
          "name": "stdout"
        }
      ]
    },
    {
      "cell_type": "code",
      "metadata": {
        "id": "Eh2aOF4cQ2Cd",
        "colab_type": "code",
        "outputId": "5541b272-5018-4c04-f74f-df152c6173e0",
        "colab": {
          "base_uri": "https://localhost:8080/",
          "height": 297
        }
      },
      "source": [
        "df.describe()"
      ],
      "execution_count": 0,
      "outputs": [
        {
          "output_type": "execute_result",
          "data": {
            "text/html": [
              "<div>\n",
              "<style scoped>\n",
              "    .dataframe tbody tr th:only-of-type {\n",
              "        vertical-align: middle;\n",
              "    }\n",
              "\n",
              "    .dataframe tbody tr th {\n",
              "        vertical-align: top;\n",
              "    }\n",
              "\n",
              "    .dataframe thead th {\n",
              "        text-align: right;\n",
              "    }\n",
              "</style>\n",
              "<table border=\"1\" class=\"dataframe\">\n",
              "  <thead>\n",
              "    <tr style=\"text-align: right;\">\n",
              "      <th></th>\n",
              "      <th>Confirmed</th>\n",
              "      <th>Deaths</th>\n",
              "      <th>Recovered</th>\n",
              "    </tr>\n",
              "  </thead>\n",
              "  <tbody>\n",
              "    <tr>\n",
              "      <th>count</th>\n",
              "      <td>848.000000</td>\n",
              "      <td>848.000000</td>\n",
              "      <td>848.000000</td>\n",
              "    </tr>\n",
              "    <tr>\n",
              "      <th>mean</th>\n",
              "      <td>256.115566</td>\n",
              "      <td>5.645047</td>\n",
              "      <td>13.280660</td>\n",
              "    </tr>\n",
              "    <tr>\n",
              "      <th>std</th>\n",
              "      <td>1871.908782</td>\n",
              "      <td>56.175599</td>\n",
              "      <td>105.357295</td>\n",
              "    </tr>\n",
              "    <tr>\n",
              "      <th>min</th>\n",
              "      <td>0.000000</td>\n",
              "      <td>0.000000</td>\n",
              "      <td>0.000000</td>\n",
              "    </tr>\n",
              "    <tr>\n",
              "      <th>25%</th>\n",
              "      <td>2.000000</td>\n",
              "      <td>0.000000</td>\n",
              "      <td>0.000000</td>\n",
              "    </tr>\n",
              "    <tr>\n",
              "      <th>50%</th>\n",
              "      <td>10.000000</td>\n",
              "      <td>0.000000</td>\n",
              "      <td>0.000000</td>\n",
              "    </tr>\n",
              "    <tr>\n",
              "      <th>75%</th>\n",
              "      <td>81.250000</td>\n",
              "      <td>0.000000</td>\n",
              "      <td>2.000000</td>\n",
              "    </tr>\n",
              "    <tr>\n",
              "      <th>max</th>\n",
              "      <td>31728.000000</td>\n",
              "      <td>974.000000</td>\n",
              "      <td>2222.000000</td>\n",
              "    </tr>\n",
              "  </tbody>\n",
              "</table>\n",
              "</div>"
            ],
            "text/plain": [
              "          Confirmed      Deaths    Recovered\n",
              "count    848.000000  848.000000   848.000000\n",
              "mean     256.115566    5.645047    13.280660\n",
              "std     1871.908782   56.175599   105.357295\n",
              "min        0.000000    0.000000     0.000000\n",
              "25%        2.000000    0.000000     0.000000\n",
              "50%       10.000000    0.000000     0.000000\n",
              "75%       81.250000    0.000000     2.000000\n",
              "max    31728.000000  974.000000  2222.000000"
            ]
          },
          "metadata": {
            "tags": []
          },
          "execution_count": 55
        }
      ]
    },
    {
      "cell_type": "code",
      "metadata": {
        "id": "ZT2ebRooRJhE",
        "colab_type": "code",
        "outputId": "1172916a-d3b9-429c-f6a7-1e2425c3cf60",
        "colab": {
          "base_uri": "https://localhost:8080/",
          "height": 34
        }
      },
      "source": [
        "df.columns"
      ],
      "execution_count": 0,
      "outputs": [
        {
          "output_type": "execute_result",
          "data": {
            "text/plain": [
              "Index(['Country/Region', 'Confirmed', 'Deaths', 'Recovered'], dtype='object')"
            ]
          },
          "metadata": {
            "tags": []
          },
          "execution_count": 33
        }
      ]
    },
    {
      "cell_type": "code",
      "metadata": {
        "id": "gpelHdjJRNfL",
        "colab_type": "code",
        "colab": {}
      },
      "source": [
        "X=df.iloc[:,[1,2,3]].values"
      ],
      "execution_count": 0,
      "outputs": []
    },
    {
      "cell_type": "code",
      "metadata": {
        "id": "GLTl-9ecRRnf",
        "colab_type": "code",
        "outputId": "56c9c965-0110-46e4-d726-603dc20e6dfe",
        "colab": {
          "base_uri": "https://localhost:8080/",
          "height": 282
        }
      },
      "source": [
        "plt.scatter(X[:,0],X[:,1],s=500)"
      ],
      "execution_count": 0,
      "outputs": [
        {
          "output_type": "execute_result",
          "data": {
            "text/plain": [
              "<matplotlib.collections.PathCollection at 0x7fb66632e748>"
            ]
          },
          "metadata": {
            "tags": []
          },
          "execution_count": 57
        },
        {
          "output_type": "display_data",
          "data": {
            "image/png": "[encoded data removed]",
            "text/plain": [
              "<Figure size 432x288 with 1 Axes>"
            ]
          },
          "metadata": {
            "tags": []
          }
        }
      ]
    },
    {
      "cell_type": "code",
      "metadata": {
        "id": "8fKEYmV5RXeH",
        "colab_type": "code",
        "colab": {}
      },
      "source": [
        "from sklearn.cluster import KMeans\n",
        "kmeans = KMeans(n_clusters=4)\n",
        "kmeans.fit(X)\n",
        "y_kmeans = kmeans.predict(X)"
      ],
      "execution_count": 0,
      "outputs": []
    },
    {
      "cell_type": "code",
      "metadata": {
        "id": "K0BjRWJsTL8G",
        "colab_type": "code",
        "outputId": "7dda6a3a-0cdc-47c0-9fa9-e00c3849c906",
        "colab": {
          "base_uri": "https://localhost:8080/",
          "height": 265
        }
      },
      "source": [
        "plt.scatter(X[:, 0], X[:, 1], c=y_kmeans, s=50, cmap='viridis')\n",
        "\n",
        "centers = kmeans.cluster_centers_\n",
        "plt.scatter(centers[:, 0], centers[:, 1], c='black', s=200, alpha=0.5);"
      ],
      "execution_count": 0,
      "outputs": [
        {
          "output_type": "display_data",
          "data": {
            "image/png": "[encoded data removed]",
            "text/plain": [
              "<Figure size 432x288 with 1 Axes>"
            ]
          },
          "metadata": {
            "tags": []
          }
        }
      ]
    },
    {
      "cell_type": "code",
      "metadata": {
        "id": "Y3hYyBGHTP9Z",
        "colab_type": "code",
        "outputId": "a86e8aec-3bef-4d57-ce41-55e22e1301fe",
        "colab": {
          "base_uri": "https://localhost:8080/",
          "height": 295
        }
      },
      "source": [
        "Nc = range(2, 21)\n",
        "kmeans = [KMeans(n_clusters=i) for i in Nc]\n",
        "kmeans\n",
        "score = [kmeans[i].fit(X).score(X) for i in range(len(kmeans))]\n",
        "score\n",
        "pl.plot(Nc,score)\n",
        "pl.xlabel('Number of Clusters')\n",
        "pl.ylabel('Score')\n",
        "pl.title('Elbow Curve')\n",
        "pl.show()\n"
      ],
      "execution_count": 0,
      "outputs": [
        {
          "output_type": "display_data",
          "data": {
            "image/png": "[encoded data removed]",
            "text/plain": [
              "<Figure size 432x288 with 1 Axes>"
            ]
          },
          "metadata": {
            "tags": []
          }
        }
      ]
    },
    {
      "cell_type": "code",
      "metadata": {
        "id": "nw1a9q6HVJ1w",
        "colab_type": "code",
        "colab": {}
      },
      "source": [
        "score"
      ],
      "execution_count": 0,
      "outputs": []
    },
    {
      "cell_type": "code",
      "metadata": {
        "id": "eVJB2munWzyB",
        "colab_type": "code",
        "colab": {}
      },
      "source": [
        ""
      ],
      "execution_count": 0,
      "outputs": []
    },
    {
      "cell_type": "code",
      "metadata": {
        "id": "6-mXCoyZVPaM",
        "colab_type": "code",
        "outputId": "585d96c0-420e-4fcf-9def-d3cc4f7def89",
        "colab": {
          "base_uri": "https://localhost:8080/",
          "height": 1000
        }
      },
      "source": [
        "df.groupby([\"Country/Region\"]).mean()"
      ],
      "execution_count": 0,
      "outputs": [
        {
          "output_type": "execute_result",
          "data": {
            "text/html": [
              "<div>\n",
              "<style scoped>\n",
              "    .dataframe tbody tr th:only-of-type {\n",
              "        vertical-align: middle;\n",
              "    }\n",
              "\n",
              "    .dataframe tbody tr th {\n",
              "        vertical-align: top;\n",
              "    }\n",
              "\n",
              "    .dataframe thead th {\n",
              "        text-align: right;\n",
              "    }\n",
              "</style>\n",
              "<table border=\"1\" class=\"dataframe\">\n",
              "  <thead>\n",
              "    <tr style=\"text-align: right;\">\n",
              "      <th></th>\n",
              "      <th>Confirmed</th>\n",
              "      <th>Deaths</th>\n",
              "      <th>Recovered</th>\n",
              "    </tr>\n",
              "    <tr>\n",
              "      <th>Country/Region</th>\n",
              "      <th></th>\n",
              "      <th></th>\n",
              "      <th></th>\n",
              "    </tr>\n",
              "  </thead>\n",
              "  <tbody>\n",
              "    <tr>\n",
              "      <th>Australia</th>\n",
              "      <td>3.048780</td>\n",
              "      <td>0.000000</td>\n",
              "      <td>0.439024</td>\n",
              "    </tr>\n",
              "    <tr>\n",
              "      <th>Belgium</th>\n",
              "      <td>1.000000</td>\n",
              "      <td>0.000000</td>\n",
              "      <td>0.000000</td>\n",
              "    </tr>\n",
              "    <tr>\n",
              "      <th>Brazil</th>\n",
              "      <td>0.000000</td>\n",
              "      <td>0.000000</td>\n",
              "      <td>0.000000</td>\n",
              "    </tr>\n",
              "    <tr>\n",
              "      <th>Cambodia</th>\n",
              "      <td>1.000000</td>\n",
              "      <td>0.000000</td>\n",
              "      <td>0.000000</td>\n",
              "    </tr>\n",
              "    <tr>\n",
              "      <th>Canada</th>\n",
              "      <td>1.703704</td>\n",
              "      <td>0.000000</td>\n",
              "      <td>0.000000</td>\n",
              "    </tr>\n",
              "    <tr>\n",
              "      <th>Colombia</th>\n",
              "      <td>0.000000</td>\n",
              "      <td>0.000000</td>\n",
              "      <td>0.000000</td>\n",
              "    </tr>\n",
              "    <tr>\n",
              "      <th>Finland</th>\n",
              "      <td>1.000000</td>\n",
              "      <td>0.000000</td>\n",
              "      <td>0.000000</td>\n",
              "    </tr>\n",
              "    <tr>\n",
              "      <th>France</th>\n",
              "      <td>6.166667</td>\n",
              "      <td>0.000000</td>\n",
              "      <td>0.000000</td>\n",
              "    </tr>\n",
              "    <tr>\n",
              "      <th>Germany</th>\n",
              "      <td>9.000000</td>\n",
              "      <td>0.000000</td>\n",
              "      <td>0.000000</td>\n",
              "    </tr>\n",
              "    <tr>\n",
              "      <th>Hong Kong</th>\n",
              "      <td>14.142857</td>\n",
              "      <td>0.285714</td>\n",
              "      <td>0.000000</td>\n",
              "    </tr>\n",
              "    <tr>\n",
              "      <th>India</th>\n",
              "      <td>2.222222</td>\n",
              "      <td>0.000000</td>\n",
              "      <td>0.000000</td>\n",
              "    </tr>\n",
              "    <tr>\n",
              "      <th>Italy</th>\n",
              "      <td>2.250000</td>\n",
              "      <td>0.000000</td>\n",
              "      <td>0.000000</td>\n",
              "    </tr>\n",
              "    <tr>\n",
              "      <th>Ivory Coast</th>\n",
              "      <td>1.000000</td>\n",
              "      <td>0.000000</td>\n",
              "      <td>0.000000</td>\n",
              "    </tr>\n",
              "    <tr>\n",
              "      <th>Japan</th>\n",
              "      <td>14.500000</td>\n",
              "      <td>0.000000</td>\n",
              "      <td>1.071429</td>\n",
              "    </tr>\n",
              "    <tr>\n",
              "      <th>Macau</th>\n",
              "      <td>7.142857</td>\n",
              "      <td>0.000000</td>\n",
              "      <td>0.142857</td>\n",
              "    </tr>\n",
              "    <tr>\n",
              "      <th>Mainland China</th>\n",
              "      <td>498.552204</td>\n",
              "      <td>11.083527</td>\n",
              "      <td>25.825986</td>\n",
              "    </tr>\n",
              "    <tr>\n",
              "      <th>Malaysia</th>\n",
              "      <td>8.538462</td>\n",
              "      <td>0.000000</td>\n",
              "      <td>0.153846</td>\n",
              "    </tr>\n",
              "    <tr>\n",
              "      <th>Mexico</th>\n",
              "      <td>0.000000</td>\n",
              "      <td>0.000000</td>\n",
              "      <td>0.000000</td>\n",
              "    </tr>\n",
              "    <tr>\n",
              "      <th>Nepal</th>\n",
              "      <td>1.000000</td>\n",
              "      <td>0.000000</td>\n",
              "      <td>0.000000</td>\n",
              "    </tr>\n",
              "    <tr>\n",
              "      <th>Others</th>\n",
              "      <td>99.500000</td>\n",
              "      <td>0.000000</td>\n",
              "      <td>0.000000</td>\n",
              "    </tr>\n",
              "    <tr>\n",
              "      <th>Philippines</th>\n",
              "      <td>1.700000</td>\n",
              "      <td>0.600000</td>\n",
              "      <td>0.000000</td>\n",
              "    </tr>\n",
              "    <tr>\n",
              "      <th>Russia</th>\n",
              "      <td>2.000000</td>\n",
              "      <td>0.000000</td>\n",
              "      <td>0.000000</td>\n",
              "    </tr>\n",
              "    <tr>\n",
              "      <th>Singapore</th>\n",
              "      <td>17.846154</td>\n",
              "      <td>0.000000</td>\n",
              "      <td>0.307692</td>\n",
              "    </tr>\n",
              "    <tr>\n",
              "      <th>South Korea</th>\n",
              "      <td>11.285714</td>\n",
              "      <td>0.000000</td>\n",
              "      <td>0.428571</td>\n",
              "    </tr>\n",
              "    <tr>\n",
              "      <th>Spain</th>\n",
              "      <td>1.285714</td>\n",
              "      <td>0.000000</td>\n",
              "      <td>0.000000</td>\n",
              "    </tr>\n",
              "    <tr>\n",
              "      <th>Sri Lanka</th>\n",
              "      <td>1.000000</td>\n",
              "      <td>0.000000</td>\n",
              "      <td>0.166667</td>\n",
              "    </tr>\n",
              "    <tr>\n",
              "      <th>Sweden</th>\n",
              "      <td>1.000000</td>\n",
              "      <td>0.000000</td>\n",
              "      <td>0.000000</td>\n",
              "    </tr>\n",
              "    <tr>\n",
              "      <th>Taiwan</th>\n",
              "      <td>9.285714</td>\n",
              "      <td>0.000000</td>\n",
              "      <td>0.142857</td>\n",
              "    </tr>\n",
              "    <tr>\n",
              "      <th>Thailand</th>\n",
              "      <td>17.500000</td>\n",
              "      <td>0.000000</td>\n",
              "      <td>4.785714</td>\n",
              "    </tr>\n",
              "    <tr>\n",
              "      <th>UK</th>\n",
              "      <td>2.875000</td>\n",
              "      <td>0.000000</td>\n",
              "      <td>0.000000</td>\n",
              "    </tr>\n",
              "    <tr>\n",
              "      <th>US</th>\n",
              "      <td>1.291139</td>\n",
              "      <td>0.000000</td>\n",
              "      <td>0.075949</td>\n",
              "    </tr>\n",
              "    <tr>\n",
              "      <th>United Arab Emirates</th>\n",
              "      <td>5.100000</td>\n",
              "      <td>0.000000</td>\n",
              "      <td>0.000000</td>\n",
              "    </tr>\n",
              "    <tr>\n",
              "      <th>Vietnam</th>\n",
              "      <td>5.769231</td>\n",
              "      <td>0.000000</td>\n",
              "      <td>0.538462</td>\n",
              "    </tr>\n",
              "  </tbody>\n",
              "</table>\n",
              "</div>"
            ],
            "text/plain": [
              "                       Confirmed     Deaths  Recovered\n",
              "Country/Region                                        \n",
              "Australia               3.048780   0.000000   0.439024\n",
              "Belgium                 1.000000   0.000000   0.000000\n",
              "Brazil                  0.000000   0.000000   0.000000\n",
              "Cambodia                1.000000   0.000000   0.000000\n",
              "Canada                  1.703704   0.000000   0.000000\n",
              "Colombia                0.000000   0.000000   0.000000\n",
              "Finland                 1.000000   0.000000   0.000000\n",
              "France                  6.166667   0.000000   0.000000\n",
              "Germany                 9.000000   0.000000   0.000000\n",
              "Hong Kong              14.142857   0.285714   0.000000\n",
              "India                   2.222222   0.000000   0.000000\n",
              "Italy                   2.250000   0.000000   0.000000\n",
              "Ivory Coast             1.000000   0.000000   0.000000\n",
              "Japan                  14.500000   0.000000   1.071429\n",
              "Macau                   7.142857   0.000000   0.142857\n",
              "Mainland China        498.552204  11.083527  25.825986\n",
              "Malaysia                8.538462   0.000000   0.153846\n",
              "Mexico                  0.000000   0.000000   0.000000\n",
              "Nepal                   1.000000   0.000000   0.000000\n",
              "Others                 99.500000   0.000000   0.000000\n",
              "Philippines             1.700000   0.600000   0.000000\n",
              "Russia                  2.000000   0.000000   0.000000\n",
              "Singapore              17.846154   0.000000   0.307692\n",
              "South Korea            11.285714   0.000000   0.428571\n",
              "Spain                   1.285714   0.000000   0.000000\n",
              "Sri Lanka               1.000000   0.000000   0.166667\n",
              "Sweden                  1.000000   0.000000   0.000000\n",
              "Taiwan                  9.285714   0.000000   0.142857\n",
              "Thailand               17.500000   0.000000   4.785714\n",
              "UK                      2.875000   0.000000   0.000000\n",
              "US                      1.291139   0.000000   0.075949\n",
              "United Arab Emirates    5.100000   0.000000   0.000000\n",
              "Vietnam                 5.769231   0.000000   0.538462"
            ]
          },
          "metadata": {
            "tags": []
          },
          "execution_count": 64
        }
      ]
    },
    {
      "cell_type": "markdown",
      "metadata": {
        "id": "Vflw_4wXXPwy",
        "colab_type": "text"
      },
      "source": [
        "**CONCLUSION**\n",
        "\n",
        "From the above elbow method we can find the optimal value of k . From the above graph we can say that the optimal value of k is 3 to get best accuracy of the model. So the COVID-19 cases based on country/region is concluded with the help of features called confirmed,deaths and recovery.As some regions are more affected when compared to others like CHINA."
      ]
    },
    {
      "cell_type": "markdown",
      "metadata": {
        "id": "BAIdNRprXcFn",
        "colab_type": "text"
      },
      "source": [
        "**GROUP CONTRIBUTORS**\n",
        "\n",
        "T.VIDYA ANUSHA -19PA1A05H6\n",
        "\n",
        "P.RAJITHA -19PA1A05E4\n",
        "\n",
        "P.MONICA RANI -19PA1A05E1\n",
        "\n",
        "U.PRIYANKA -19PA1A05I2\n",
        "\n",
        "SK.ASHRIYA FARHEEN-19PA1A05G7"
      ]
    }
  ]
}