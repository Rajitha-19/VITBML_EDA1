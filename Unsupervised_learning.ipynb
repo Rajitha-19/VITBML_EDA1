{
  "nbformat": 4,
  "nbformat_minor": 0,
  "metadata": {
    "colab": {
      "name": "Unsupervised learning.ipynb",
      "provenance": [],
      "collapsed_sections": [],
      "include_colab_link": true
    },
    "kernelspec": {
      "name": "python3",
      "display_name": "Python 3"
    }
  },
  "cells": [
    {
      "cell_type": "markdown",
      "metadata": {
        "id": "view-in-github",
        "colab_type": "text"
      },
      "source": [
        "<a href=\"https://colab.research.google.com/github/Rajithaponduru/VITBML_EDA1/blob/master/Unsupervised_learning.ipynb\" target=\"_parent\"><img src=\"https://colab.research.google.com/assets/colab-badge.svg\" alt=\"Open In Colab\"/></a>"
      ]
    },
    {
      "cell_type": "code",
      "metadata": {
        "id": "KFawqRvpm3PF",
        "colab_type": "code",
        "colab": {}
      },
      "source": [
        "import pandas as pd\n",
        "import numpy as np\n",
        "X_test=pd.read_csv(\"/content/samsung_test.txt\")\n",
        "Y_test=pd.read_csv(\"/content/samsung_test_labels (1).txt\").astype(int)\n",
        "X_train=pd.read_csv(\"/content/samsung_train.txt\")\n",
        "Y_train=pd.read_csv(\"/content/samsung_train_labels.txt\").astype(int)\n",
        "print(X_train,Y_test,Y_train,X_test)"
      ],
      "execution_count": 0,
      "outputs": []
    },
    {
      "cell_type": "code",
      "metadata": {
        "id": "tjMZp7314ej1",
        "colab_type": "code",
        "colab": {}
      },
      "source": [
        ""
      ],
      "execution_count": 0,
      "outputs": []
    },
    {
      "cell_type": "code",
      "metadata": {
        "_uuid": "49d35cc6431c8053964544de63bb91e638db1fa9",
        "id": "ce-qNEzWqiT9",
        "colab_type": "code",
        "colab": {}
      },
      "source": [
        "import os\n",
        "import numpy as np\n",
        "import pandas as pd\n",
        "import seaborn as sns\n",
        "from tqdm import tqdm_notebook\n",
        "\n",
        "%matplotlib inline\n",
        "from matplotlib import pyplot as plt\n",
        "plt.style.use(['seaborn-darkgrid'])\n",
        "plt.rcParams['figure.figsize'] = (12, 9)\n",
        "plt.rcParams['font.family'] = 'DejaVu Sans'\n",
        "\n",
        "from sklearn import metrics\n",
        "from sklearn.cluster import KMeans, AgglomerativeClustering, SpectralClustering\n",
        "from sklearn.decomposition import PCA\n",
        "from sklearn.model_selection import GridSearchCV\n",
        "from sklearn.preprocessing import StandardScaler\n",
        "from sklearn.svm import LinearSVC\n",
        "\n",
        "RANDOM_STATE = 17"
      ],
      "execution_count": 0,
      "outputs": []
    },
    {
      "cell_type": "code",
      "metadata": {
        "id": "gELt_ldM2ozt",
        "colab_type": "code",
        "colab": {}
      },
      "source": [
        "PATH_TO_SAMSUNG_DATA = \"../input\"\n",
        "\n",
        "\n",
        "\n"
      ],
      "execution_count": 0,
      "outputs": []
    },
    {
      "cell_type": "markdown",
      "metadata": {
        "id": "YrXeb_OwSSx3",
        "colab_type": "text"
      },
      "source": [
        "DIMENSIONS "
      ]
    },
    {
      "cell_type": "code",
      "metadata": {
        "id": "ZxJ7II6i2VwM",
        "colab_type": "code",
        "outputId": "a3727d5e-870a-4e01-87bd-e772c92fb408",
        "colab": {
          "base_uri": "https://localhost:8080/",
          "height": 84
        }
      },
      "source": [
        "print(X_train.shape)\n",
        "print(Y_train.shape)\n",
        "print(X_test.shape)\n",
        "print(Y_test.shape)"
      ],
      "execution_count": 0,
      "outputs": [
        {
          "output_type": "stream",
          "text": [
            "(350, 1)\n",
            "(7351, 1)\n",
            "(583, 1)\n",
            "(2946, 1)\n"
          ],
          "name": "stdout"
        }
      ]
    },
    {
      "cell_type": "code",
      "metadata": {
        "id": "XMlyrw_qMo8M",
        "colab_type": "code",
        "colab": {}
      },
      "source": [
        ""
      ],
      "execution_count": 0,
      "outputs": []
    },
    {
      "cell_type": "code",
      "metadata": {
        "_uuid": "98b267f6cfd624a0458dabdde5525b27970978bc",
        "colab_type": "code",
        "id": "ySog2DHwMpkt",
        "colab": {}
      },
      "source": [
        "# Checking dimensions\n",
        "assert(X_train.shape == (7351, 1) and y_train.shape == (7351,1))\n",
        "assert(X_test.shape == (2946, 1) and y_test.shape == (2946,1))"
      ],
      "execution_count": 0,
      "outputs": []
    },
    {
      "cell_type": "markdown",
      "metadata": {
        "id": "jE5q1Nw78W5p",
        "colab_type": "text"
      },
      "source": [
        "# Merging X_train and X_test and Y_train ,Y_test"
      ]
    },
    {
      "cell_type": "code",
      "metadata": {
        "id": "1qLXArgX3cYb",
        "colab_type": "code",
        "colab": {}
      },
      "source": [
        "X_combined=np.r_[X_train,X_test]\n",
        "Y_combined=np.r_[Y_train,Y_test]\n",
        "print(X_combined,Y_combined)"
      ],
      "execution_count": 0,
      "outputs": []
    },
    {
      "cell_type": "code",
      "metadata": {
        "id": "Cxf3R-OCjR_l",
        "colab_type": "code",
        "colab": {}
      },
      "source": [
        "X=pd.concat([X_train,X_test],axis=0)\n",
        "X"
      ],
      "execution_count": 0,
      "outputs": []
    },
    {
      "cell_type": "code",
      "metadata": {
        "id": "ugsNAEu8iv6r",
        "colab_type": "code",
        "colab": {}
      },
      "source": [
        "y=pd.concat([Y_train,Y_test],axis=0)\n",
        "y"
      ],
      "execution_count": 0,
      "outputs": []
    },
    {
      "cell_type": "code",
      "metadata": {
        "id": "64jPt_Fv4jDe",
        "colab_type": "code",
        "outputId": "3dd2a887-ab85-477e-a64f-077c88bed2d0",
        "colab": {
          "base_uri": "https://localhost:8080/",
          "height": 34
        }
      },
      "source": [
        "np.unique(y)\n"
      ],
      "execution_count": 0,
      "outputs": [
        {
          "output_type": "execute_result",
          "data": {
            "text/plain": [
              "array([1, 2, 3, 4, 5, 6])"
            ]
          },
          "metadata": {
            "tags": []
          },
          "execution_count": 73
        }
      ]
    },
    {
      "cell_type": "code",
      "metadata": {
        "id": "gToqxi3M49IG",
        "colab_type": "code",
        "outputId": "9e2ecf76-a706-40fe-982e-9cf14ea4f4c2",
        "colab": {
          "base_uri": "https://localhost:8080/",
          "height": 34
        }
      },
      "source": [
        "n_classes=np.unique(y).size\n",
        "n_classes"
      ],
      "execution_count": 0,
      "outputs": [
        {
          "output_type": "execute_result",
          "data": {
            "text/plain": [
              "6"
            ]
          },
          "metadata": {
            "tags": []
          },
          "execution_count": 91
        }
      ]
    },
    {
      "cell_type": "markdown",
      "metadata": {
        "id": "Uvvjj8r__6iz",
        "colab_type": "text"
      },
      "source": [
        "# Principal **Component** Analaysis(PCA)"
      ]
    },
    {
      "cell_type": "markdown",
      "metadata": {
        "id": "th_D4ytS_6fb",
        "colab_type": "text"
      },
      "source": [
        ""
      ]
    },
    {
      "cell_type": "code",
      "metadata": {
        "id": "XImYGVKrxO2F",
        "colab_type": "code",
        "outputId": "86919438-a856-474f-d5f8-b02e4aa81fb5",
        "colab": {
          "base_uri": "https://localhost:8080/",
          "height": 50
        }
      },
      "source": [
        "from sklearn.decomposition import PCA\n",
        "pca = PCA(n_components=2)\n",
        "pca.fit(X)"
      ],
      "execution_count": 0,
      "outputs": [
        {
          "output_type": "execute_result",
          "data": {
            "text/plain": [
              "PCA(copy=True, iterated_power='auto', n_components=2, random_state=None,\n",
              "    svd_solver='auto', tol=0.0, whiten=False)"
            ]
          },
          "metadata": {
            "tags": []
          },
          "execution_count": 107
        }
      ]
    },
    {
      "cell_type": "code",
      "metadata": {
        "id": "fj1eo0VHh3co",
        "colab_type": "code",
        "colab": {}
      },
      "source": [
        ""
      ],
      "execution_count": 0,
      "outputs": []
    },
    {
      "cell_type": "code",
      "metadata": {
        "colab_type": "code",
        "id": "yllIJWZOh6h3",
        "colab": {}
      },
      "source": [
        "from sklearn.decomposition import PCA\n",
        "pca_data = PCA(n_components=2)\n",
        "principalComponents_data = pca.fit_transform(X_std)\n",
        "\n"
      ],
      "execution_count": 0,
      "outputs": []
    },
    {
      "cell_type": "code",
      "metadata": {
        "id": "k2tA7jLK6RA5",
        "colab_type": "code",
        "outputId": "b427edf7-270d-4c6d-bc33-41a5eee85fb4",
        "colab": {
          "base_uri": "https://localhost:8080/",
          "height": 50
        }
      },
      "source": [
        "print(pca.components_)"
      ],
      "execution_count": 0,
      "outputs": [
        {
          "output_type": "stream",
          "text": [
            "[[-0.70710678 -0.70710678]\n",
            " [-0.70710678  0.70710678]]\n"
          ],
          "name": "stdout"
        }
      ]
    },
    {
      "cell_type": "code",
      "metadata": {
        "id": "gEHZFkbgZDsj",
        "colab_type": "code",
        "outputId": "38500337-fb2d-4d3b-d2f8-fe1cfb6eca36",
        "colab": {
          "base_uri": "https://localhost:8080/",
          "height": 195
        }
      },
      "source": [
        "principalDf = pd.DataFrame(data = principalComponents_data\n",
        "                           ,columns = ['principal component 1', 'principal component 2'])\n",
        "principalDf.tail()\n",
        "\n",
        "\n"
      ],
      "execution_count": 0,
      "outputs": [
        {
          "output_type": "execute_result",
          "data": {
            "text/html": [
              "<div>\n",
              "<style scoped>\n",
              "    .dataframe tbody tr th:only-of-type {\n",
              "        vertical-align: middle;\n",
              "    }\n",
              "\n",
              "    .dataframe tbody tr th {\n",
              "        vertical-align: top;\n",
              "    }\n",
              "\n",
              "    .dataframe thead th {\n",
              "        text-align: right;\n",
              "    }\n",
              "</style>\n",
              "<table border=\"1\" class=\"dataframe\">\n",
              "  <thead>\n",
              "    <tr style=\"text-align: right;\">\n",
              "      <th></th>\n",
              "      <th>principal component 1</th>\n",
              "      <th>principal component 2</th>\n",
              "    </tr>\n",
              "  </thead>\n",
              "  <tbody>\n",
              "    <tr>\n",
              "      <th>195</th>\n",
              "      <td>-1.327738</td>\n",
              "      <td>-0.053903</td>\n",
              "    </tr>\n",
              "    <tr>\n",
              "      <th>196</th>\n",
              "      <td>-0.224926</td>\n",
              "      <td>-0.254327</td>\n",
              "    </tr>\n",
              "    <tr>\n",
              "      <th>197</th>\n",
              "      <td>-3.098237</td>\n",
              "      <td>-0.201585</td>\n",
              "    </tr>\n",
              "    <tr>\n",
              "      <th>198</th>\n",
              "      <td>1.861588</td>\n",
              "      <td>0.098387</td>\n",
              "    </tr>\n",
              "    <tr>\n",
              "      <th>199</th>\n",
              "      <td>-0.374870</td>\n",
              "      <td>-0.251901</td>\n",
              "    </tr>\n",
              "  </tbody>\n",
              "</table>\n",
              "</div>"
            ],
            "text/plain": [
              "     principal component 1  principal component 2\n",
              "195              -1.327738              -0.053903\n",
              "196              -0.224926              -0.254327\n",
              "197              -3.098237              -0.201585\n",
              "198               1.861588               0.098387\n",
              "199              -0.374870              -0.251901"
            ]
          },
          "metadata": {
            "tags": []
          },
          "execution_count": 133
        }
      ]
    },
    {
      "cell_type": "code",
      "metadata": {
        "id": "gNcNcbE8kRg1",
        "colab_type": "code",
        "outputId": "399e6cfc-a637-42d6-80af-430fc78d161e",
        "colab": {
          "base_uri": "https://localhost:8080/",
          "height": 34
        }
      },
      "source": [
        "print('Explained variation per principal component: {}'.format(pca.explained_variance_ratio_))\n"
      ],
      "execution_count": 0,
      "outputs": [
        {
          "output_type": "stream",
          "text": [
            "Explained variation per principal component: [0.94469498 0.05530502]\n"
          ],
          "name": "stdout"
        }
      ]
    },
    {
      "cell_type": "code",
      "metadata": {
        "id": "IE7coMjeBuqU",
        "colab_type": "code",
        "outputId": "8567a445-8462-43be-b9a9-374e90341670",
        "colab": {
          "base_uri": "https://localhost:8080/",
          "height": 34
        }
      },
      "source": [
        "print(pca.explained_variance_)"
      ],
      "execution_count": 0,
      "outputs": [
        {
          "output_type": "stream",
          "text": [
            "[0.7625315 0.0184779]\n"
          ],
          "name": "stdout"
        }
      ]
    },
    {
      "cell_type": "code",
      "metadata": {
        "id": "uDj3HFyH6fd_",
        "colab_type": "code",
        "colab": {}
      },
      "source": [
        ""
      ],
      "execution_count": 0,
      "outputs": []
    },
    {
      "cell_type": "code",
      "metadata": {
        "id": "ZUJYi-HExtwy",
        "colab_type": "code",
        "outputId": "844a9914-cf85-4822-f021-6c7e4b6531d6",
        "colab": {
          "base_uri": "https://localhost:8080/",
          "height": 534
        }
      },
      "source": [
        "def draw_vector(v0, v1, ax=None):\n",
        "    ax = ax or plt.gca()\n",
        "    arrowprops=dict(arrowstyle='->',\n",
        "                    linewidth=2,\n",
        "                    shrinkA=0, shrinkB=0)\n",
        "    ax.annotate('', v1, v0, arrowprops=arrowprops)\n",
        "\n",
        "# plot data\n",
        "plt.scatter(X[:, 0], X[:, 1], alpha=0.2)\n",
        "for length, vector in zip(pca.explained_variance_, pca.components_):\n",
        "    v = vector * 3 * np.sqrt(length)\n",
        "    draw_vector(pca.mean_, pca.mean_ + v)\n",
        "plt.axis('equal');"
      ],
      "execution_count": 0,
      "outputs": [
        {
          "output_type": "display_data",
          "data": {
            "image/png": "[encoded data removed]",
            "text/plain": [
              "<Figure size 864x648 with 1 Axes>"
            ]
          },
          "metadata": {
            "tags": []
          }
        }
      ]
    },
    {
      "cell_type": "code",
      "metadata": {
        "id": "AEoYYwDEYAx3",
        "colab_type": "code",
        "colab": {}
      },
      "source": [
        ""
      ],
      "execution_count": 0,
      "outputs": []
    },
    {
      "cell_type": "code",
      "metadata": {
        "id": "tA9y3Wu7x2ES",
        "colab_type": "code",
        "outputId": "4f8e67eb-8dbb-4c92-f032-ace4d3f6bc56",
        "colab": {
          "base_uri": "https://localhost:8080/",
          "height": 50
        }
      },
      "source": [
        "pca = PCA(n_components=2)\n",
        "pca.fit(X)\n",
        "X_pca = pca.transform(X)\n",
        "print(\"original shape:   \", X.shape)\n",
        "print(\"transformed shape:\", X_pca.shape)"
      ],
      "execution_count": 0,
      "outputs": [
        {
          "output_type": "stream",
          "text": [
            "original shape:    (200, 2)\n",
            "transformed shape: (200, 2)\n"
          ],
          "name": "stdout"
        }
      ]
    },
    {
      "cell_type": "code",
      "metadata": {
        "id": "88OzDttQcvI9",
        "colab_type": "code",
        "outputId": "601cb44b-3430-47dd-8a52-574f4f000d78",
        "colab": {
          "base_uri": "https://localhost:8080/",
          "height": 548
        }
      },
      "source": [
        "pca = PCA().fit(X)\n",
        "plt.plot(np.cumsum(pca.explained_variance_ratio_))\n",
        "plt.xlabel('number of components')\n",
        "plt.ylabel('cumulative explained variance');\n"
      ],
      "execution_count": 0,
      "outputs": [
        {
          "output_type": "display_data",
          "data": {
            "image/png": "[encoded data removed]",
            "text/plain": [
              "<Figure size 864x648 with 1 Axes>"
            ]
          },
          "metadata": {
            "tags": []
          }
        }
      ]
    },
    {
      "cell_type": "code",
      "metadata": {
        "id": "n5yxPz_iZK9V",
        "colab_type": "code",
        "colab": {}
      },
      "source": [
        ""
      ],
      "execution_count": 0,
      "outputs": []
    },
    {
      "cell_type": "markdown",
      "metadata": {
        "id": "0Fy4dZtQRjXf",
        "colab_type": "text"
      },
      "source": [
        "# ***silhouette***"
      ]
    },
    {
      "cell_type": "code",
      "metadata": {
        "id": "fcugJyb6d9Zz",
        "colab_type": "code",
        "outputId": "f7453754-c8f9-47cc-e2e5-594587afabf2",
        "colab": {
          "base_uri": "https://localhost:8080/",
          "height": 34
        }
      },
      "source": [
        "\n",
        "from sklearn.cluster import KMeans\n",
        "from sklearn import metrics\n",
        "k_means = KMeans(n_clusters=6)\n",
        "model = k_means.fit(X)\n",
        "model\n",
        "y_hat = k_means.predict(X)\n",
        "labels = k_means.labels_\n",
        "metrics.silhouette_score(X, labels, metric = 'euclidean')\n"
      ],
      "execution_count": 0,
      "outputs": [
        {
          "output_type": "execute_result",
          "data": {
            "text/plain": [
              "0.690263885675279"
            ]
          },
          "metadata": {
            "tags": []
          },
          "execution_count": 156
        }
      ]
    },
    {
      "cell_type": "markdown",
      "metadata": {
        "id": "AiPKGGIlREM1",
        "colab_type": "text"
      },
      "source": [
        "## Tuning hyperparameter for linearsvc using Gridsearchcv*"
      ]
    },
    {
      "cell_type": "markdown",
      "metadata": {
        "id": "-6FfGwILQ9oK",
        "colab_type": "text"
      },
      "source": [
        ""
      ]
    },
    {
      "cell_type": "code",
      "metadata": {
        "id": "c_8LLSE8NScW",
        "colab_type": "code",
        "colab": {}
      },
      "source": [
        "from sklearn.model_selection import train_test_split, GridSearchCV\n",
        "from sklearn.linear_model import LogisticRegression\n",
        "from sklearn.preprocessing import StandardScaler\n",
        "import warnings\n",
        "warnings.filterwarnings('ignore')\n",
        "scaler = StandardScaler()\n",
        "X_train_scaled = scaler.fit_transform(X_train)\n",
        "X_test_scaled = scaler.transform(X_test)\n",
        "logreg = LogisticRegression()\n",
        "param_grid = {'C':[0.001,0.01,0.1,1,5,10,20,50,100]}\n",
        "\n",
        "clf = GridSearchCV(logreg,\n",
        "                    param_grid=param_grid,\n",
        "                    cv=3,\n",
        "                    n_jobs=-1)\n",
        "\n",
        "clf.fit(X_train_scaled, y_train)\n",
        "\n",
        "y_pred = clf.predict(X_test_scaled)\n",
        "\n",
        "\n"
      ],
      "execution_count": 0,
      "outputs": []
    },
    {
      "cell_type": "code",
      "metadata": {
        "_uuid": "7b0c661771542832de4f923b5206f6c8df1aa508",
        "id": "BG7MXFwQqiVR",
        "colab_type": "code",
        "colab": {}
      },
      "source": [
        "svc = LinearSVC(random_state=RANDOM_STATE)\n",
        "svc_params = {'C': [0.001, 0.01, 0.1, 1, 10]}"
      ],
      "execution_count": 0,
      "outputs": []
    }
  ]
}