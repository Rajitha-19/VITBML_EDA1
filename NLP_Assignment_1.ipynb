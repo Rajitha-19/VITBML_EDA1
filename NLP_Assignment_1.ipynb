{
  "nbformat": 4,
  "nbformat_minor": 0,
  "metadata": {
    "colab": {
      "name": "NLP Assignment 1.ipynb",
      "provenance": [],
      "include_colab_link": true
    },
    "kernelspec": {
      "name": "python3",
      "display_name": "Python 3"
    }
  },
  "cells": [
    {
      "cell_type": "markdown",
      "metadata": {
        "id": "view-in-github",
        "colab_type": "text"
      },
      "source": [
        "<a href=\"https://colab.research.google.com/github/Rajithaponduru/VITBML_EDA1/blob/master/NLP_Assignment_1.ipynb\" target=\"_parent\"><img src=\"https://colab.research.google.com/assets/colab-badge.svg\" alt=\"Open In Colab\"/></a>"
      ]
    },
    {
      "cell_type": "markdown",
      "metadata": {
        "id": "wXM1P_NKpsbd",
        "colab_type": "text"
      },
      "source": [
        "# NLP Assignment\n",
        "In this assignment you will learn to do some data cleaning, prepare your features and do some K Means clustering on the data.\n",
        "\n",
        "[Download data from here](https://drive.google.com/open?id=1ozz0zITDG8wOSQtwop2NC7AM_T3O59nj)\n",
        "\n",
        "Load it as a pandas dataframe\n"
      ]
    },
    {
      "cell_type": "code",
      "metadata": {
        "id": "wl3ScdoUpQUp",
        "colab_type": "code",
        "colab": {}
      },
      "source": [
        "# Your code here\n",
        "import numpy as np\n",
        "import pandas as pd\n",
        "import csv\n",
        "\n"
      ],
      "execution_count": 0,
      "outputs": []
    },
    {
      "cell_type": "code",
      "metadata": {
        "id": "Vjg-fx7iBVyB",
        "colab_type": "code",
        "outputId": "8ad4301f-ba07-49c1-efbb-925ef2f8a11e",
        "colab": {
          "base_uri": "https://localhost:8080/",
          "height": 1000
        }
      },
      "source": [
        "df=pd.read_csv(\"/content/amazon_co-ecommerce_sample.csv\")\n",
        "df.dropna(axis=0,inplace=True)\n",
        "df"
      ],
      "execution_count": 6,
      "outputs": [
        {
          "output_type": "execute_result",
          "data": {
            "text/html": [
              "<div>\n",
              "<style scoped>\n",
              "    .dataframe tbody tr th:only-of-type {\n",
              "        vertical-align: middle;\n",
              "    }\n",
              "\n",
              "    .dataframe tbody tr th {\n",
              "        vertical-align: top;\n",
              "    }\n",
              "\n",
              "    .dataframe thead th {\n",
              "        text-align: right;\n",
              "    }\n",
              "</style>\n",
              "<table border=\"1\" class=\"dataframe\">\n",
              "  <thead>\n",
              "    <tr style=\"text-align: right;\">\n",
              "      <th></th>\n",
              "      <th>uniq_id</th>\n",
              "      <th>product_name</th>\n",
              "      <th>manufacturer</th>\n",
              "      <th>price</th>\n",
              "      <th>number_available_in_stock</th>\n",
              "      <th>number_of_reviews</th>\n",
              "      <th>number_of_answered_questions</th>\n",
              "      <th>average_review_rating</th>\n",
              "      <th>amazon_category_and_sub_category</th>\n",
              "      <th>customers_who_bought_this_item_also_bought</th>\n",
              "      <th>description</th>\n",
              "      <th>product_information</th>\n",
              "      <th>product_description</th>\n",
              "      <th>items_customers_buy_after_viewing_this_item</th>\n",
              "      <th>customer_questions_and_answers</th>\n",
              "      <th>customer_reviews</th>\n",
              "      <th>sellers</th>\n",
              "    </tr>\n",
              "  </thead>\n",
              "  <tbody>\n",
              "    <tr>\n",
              "      <th>0</th>\n",
              "      <td>eac7efa5dbd3d667f26eb3d3ab504464</td>\n",
              "      <td>Hornby 2014 Catalogue</td>\n",
              "      <td>Hornby</td>\n",
              "      <td>£3.42</td>\n",
              "      <td>5 new</td>\n",
              "      <td>15</td>\n",
              "      <td>1.0</td>\n",
              "      <td>4.9 out of 5 stars</td>\n",
              "      <td>Hobbies &gt; Model Trains &amp; Railway Sets &gt; Rail V...</td>\n",
              "      <td>http://www.amazon.co.uk/Hornby-R8150-Catalogue...</td>\n",
              "      <td>Product Description Hornby 2014 Catalogue Box ...</td>\n",
              "      <td>Technical Details Item Weight640 g Product Dim...</td>\n",
              "      <td>Product Description Hornby 2014 Catalogue Box ...</td>\n",
              "      <td>http://www.amazon.co.uk/Hornby-R8150-Catalogue...</td>\n",
              "      <td>Does this catalogue detail all the previous Ho...</td>\n",
              "      <td>Worth Buying For The Pictures Alone (As Ever) ...</td>\n",
              "      <td>{\"seller\"=&gt;[{\"Seller_name_1\"=&gt;\"Amazon.co.uk\", ...</td>\n",
              "    </tr>\n",
              "    <tr>\n",
              "      <th>2</th>\n",
              "      <td>348f344247b0c1a935b1223072ef9d8a</td>\n",
              "      <td>CLASSIC TOY TRAIN SET TRACK CARRIAGES LIGHT EN...</td>\n",
              "      <td>ccf</td>\n",
              "      <td>£9.99</td>\n",
              "      <td>2 new</td>\n",
              "      <td>17</td>\n",
              "      <td>2.0</td>\n",
              "      <td>3.9 out of 5 stars</td>\n",
              "      <td>Hobbies &gt; Model Trains &amp; Railway Sets &gt; Rail V...</td>\n",
              "      <td>http://www.amazon.co.uk/Classic-Train-Lights-B...</td>\n",
              "      <td>BIG CLASSIC TOY TRAIN SET TRACK CARRIAGE LIGHT...</td>\n",
              "      <td>Technical Details Manufacturer recommended age...</td>\n",
              "      <td>BIG CLASSIC TOY TRAIN SET TRACK CARRIAGE LIGHT...</td>\n",
              "      <td>http://www.amazon.co.uk/Train-With-Tracks-Batt...</td>\n",
              "      <td>What is the gauge of the track // Hi Paul.Trut...</td>\n",
              "      <td>**Highly Recommended!** // 5.0 // 26 May 2015 ...</td>\n",
              "      <td>{\"seller\"=&gt;[{\"Seller_name_1\"=&gt;\"DEAL-BOX\", \"Sel...</td>\n",
              "    </tr>\n",
              "    <tr>\n",
              "      <th>7</th>\n",
              "      <td>87bbb472ef9d90dcef140a551665c929</td>\n",
              "      <td>Hornby Santa's Express Train Set</td>\n",
              "      <td>Hornby</td>\n",
              "      <td>£69.93</td>\n",
              "      <td>3 new</td>\n",
              "      <td>36</td>\n",
              "      <td>7.0</td>\n",
              "      <td>4.3 out of 5 stars</td>\n",
              "      <td>Hobbies &gt; Model Trains &amp; Railway Sets &gt; Rail V...</td>\n",
              "      <td>http://www.amazon.co.uk/Hornby-R8221-Gauge-Tra...</td>\n",
              "      <td>Product Description Inject a bit of Hornby mag...</td>\n",
              "      <td>Technical Details Item Weight1.2 Kg Product Di...</td>\n",
              "      <td>Product Description Inject a bit of Hornby mag...</td>\n",
              "      <td>http://www.amazon.co.uk/Hornby-R1151-Caledonia...</td>\n",
              "      <td>Can this train go backwards as well as forward...</td>\n",
              "      <td>Beautiful set // 5.0 // 3 Dec. 2015 // By\\n   ...</td>\n",
              "      <td>{\"seller\"=&gt;[{\"Seller_name_1\"=&gt;\"Toy Arena\", \"Se...</td>\n",
              "    </tr>\n",
              "    <tr>\n",
              "      <th>8</th>\n",
              "      <td>7e2aa2b4596a39ba852449718413d7cc</td>\n",
              "      <td>Hornby Gauge Western Express Digital Train Set...</td>\n",
              "      <td>Hornby</td>\n",
              "      <td>£235.58</td>\n",
              "      <td>4 new</td>\n",
              "      <td>1</td>\n",
              "      <td>1.0</td>\n",
              "      <td>5.0 out of 5 stars</td>\n",
              "      <td>Hobbies &gt; Model Trains &amp; Railway Sets &gt; Rail V...</td>\n",
              "      <td>http://www.amazon.co.uk/Hornby-Western-Master-...</td>\n",
              "      <td>Western Express Digital Train Set with eLink a...</td>\n",
              "      <td>Technical Details Item Weight2.3 Kg Product Di...</td>\n",
              "      <td>Western Express Digital Train Set with eLink a...</td>\n",
              "      <td>http://www.amazon.co.uk/Hornby-Western-Master-...</td>\n",
              "      <td>The description is incorrect.  the hornby site...</td>\n",
              "      <td>Five Stars // 5.0 // 23 Dec. 2015 // By\\n    \\...</td>\n",
              "      <td>{\"seller\"=&gt;[{\"Seller_name_1\"=&gt;\"Amazon.co.uk\", ...</td>\n",
              "    </tr>\n",
              "    <tr>\n",
              "      <th>30</th>\n",
              "      <td>93a2c5173f17b896dc614ffbac0c2f2c</td>\n",
              "      <td>Hornby R3246TTS LNER 2-8-2 'Cock O' The North'...</td>\n",
              "      <td>Hornby</td>\n",
              "      <td>£139.95</td>\n",
              "      <td>3 new</td>\n",
              "      <td>1</td>\n",
              "      <td>1.0</td>\n",
              "      <td>5.0 out of 5 stars</td>\n",
              "      <td>Hobbies &gt; Model Trains &amp; Railway Sets &gt; Rail V...</td>\n",
              "      <td>http://www.amazon.co.uk/Hornby-Gauge-Master-Gl...</td>\n",
              "      <td>Suitable for the following scale(s): OO Scale</td>\n",
              "      <td>Technical Details Manufacturer recommended age...</td>\n",
              "      <td>Suitable for the following scale(s): OO Scale</td>\n",
              "      <td>http://www.amazon.co.uk/Hornby-Gauge-Master-Gl...</td>\n",
              "      <td>I'm guessing this is the railroad version, as ...</td>\n",
              "      <td>Five Stars // 5.0 // 26 Nov. 2014 // By\\n    \\...</td>\n",
              "      <td>{\"seller\"=&gt;[{\"Seller_name_1\"=&gt;\"Gaugemaster\", \"...</td>\n",
              "    </tr>\n",
              "    <tr>\n",
              "      <th>...</th>\n",
              "      <td>...</td>\n",
              "      <td>...</td>\n",
              "      <td>...</td>\n",
              "      <td>...</td>\n",
              "      <td>...</td>\n",
              "      <td>...</td>\n",
              "      <td>...</td>\n",
              "      <td>...</td>\n",
              "      <td>...</td>\n",
              "      <td>...</td>\n",
              "      <td>...</td>\n",
              "      <td>...</td>\n",
              "      <td>...</td>\n",
              "      <td>...</td>\n",
              "      <td>...</td>\n",
              "      <td>...</td>\n",
              "      <td>...</td>\n",
              "    </tr>\n",
              "    <tr>\n",
              "      <th>9915</th>\n",
              "      <td>4f955d75276bc16b1ff27dd88c7dc686</td>\n",
              "      <td>FIFA Scene It? DVD Game</td>\n",
              "      <td>Mattel</td>\n",
              "      <td>£1.59</td>\n",
              "      <td>19 new</td>\n",
              "      <td>5</td>\n",
              "      <td>1.0</td>\n",
              "      <td>4.4 out of 5 stars</td>\n",
              "      <td>Games &gt; DVD Games</td>\n",
              "      <td>http://www.amazon.co.uk/Toys-UEFA-Champions-Le...</td>\n",
              "      <td>Product Description Major new license game for...</td>\n",
              "      <td>Technical Details Item Weight1.1 Kg Product Di...</td>\n",
              "      <td>Product Description Major new license game for...</td>\n",
              "      <td>http://www.amazon.co.uk/The-Green-Board-Game-C...</td>\n",
              "      <td>Can I buy an up to date set of cards and DVD f...</td>\n",
              "      <td>Great game // 5.0 // 29 Jun. 2013 // By\\n    \\...</td>\n",
              "      <td>{\"seller\"=&gt;[{\"Seller_name_1\"=&gt;\"Angela's Books\"...</td>\n",
              "    </tr>\n",
              "    <tr>\n",
              "      <th>9916</th>\n",
              "      <td>a1024a94e32b1be4ff83489152f9528d</td>\n",
              "      <td>DOMINO TILES RACKS. WOODEN. SET OF FOUR.</td>\n",
              "      <td>Elysium Enterprises</td>\n",
              "      <td>£13.99</td>\n",
              "      <td>2 new</td>\n",
              "      <td>7</td>\n",
              "      <td>1.0</td>\n",
              "      <td>4.4 out of 5 stars</td>\n",
              "      <td>Games &gt; Dominoes &amp; Tile Games</td>\n",
              "      <td>http://www.amazon.co.uk/Double-Colour-Dominoes...</td>\n",
              "      <td>Handy accessory for use with Tile Games.</td>\n",
              "      <td>Technical Details Manufacturer recommended age...</td>\n",
              "      <td>Handy accessory for use with Tile Games.</td>\n",
              "      <td>http://www.amazon.co.uk/Mah-Jongg-Scrabble-Woo...</td>\n",
              "      <td>Are the rows cut at an angle,so that the tiles...</td>\n",
              "      <td>Tile/Domino Racks // 5.0 // 19 Jan. 2015 // By...</td>\n",
              "      <td>{\"seller\"=&gt;[{\"Seller_name_1\"=&gt;\"Brimtoy T/a Jes...</td>\n",
              "    </tr>\n",
              "    <tr>\n",
              "      <th>9941</th>\n",
              "      <td>daea7a80ff206b03b32cedb026cdee63</td>\n",
              "      <td>John Adams New Rummikub Junior Craft Kit</td>\n",
              "      <td>Rummikub</td>\n",
              "      <td>£9.99</td>\n",
              "      <td>16 new</td>\n",
              "      <td>1</td>\n",
              "      <td>1.0</td>\n",
              "      <td>4.0 out of 5 stars</td>\n",
              "      <td>Games &gt; Dominoes &amp; Tile Games</td>\n",
              "      <td>http://www.amazon.co.uk/Pressman-Toys-0400-06D...</td>\n",
              "      <td>Product Description The object of the game is ...</td>\n",
              "      <td>Technical Details Item Weight640 g Product Dim...</td>\n",
              "      <td>Product Description The object of the game is ...</td>\n",
              "      <td>http://www.amazon.co.uk/Pressman-Toys-0400-06D...</td>\n",
              "      <td>Is this a word or a number game?  The picture ...</td>\n",
              "      <td>Four Stars // 4.0 // 8 Feb. 2016 // By\\n    \\n...</td>\n",
              "      <td>{\"seller\"=&gt;[{\"Seller_name_1\"=&gt;\"Fun Collectable...</td>\n",
              "    </tr>\n",
              "    <tr>\n",
              "      <th>9948</th>\n",
              "      <td>39a1c10da42db0ae04a0af42b53d3048</td>\n",
              "      <td>Tobar 00435 Wooden Domino Race</td>\n",
              "      <td>Tobar</td>\n",
              "      <td>£15.99</td>\n",
              "      <td>25 new</td>\n",
              "      <td>44</td>\n",
              "      <td>1.0</td>\n",
              "      <td>4.1 out of 5 stars</td>\n",
              "      <td>Games &gt; Dominoes &amp; Tile Games</td>\n",
              "      <td>http://www.amazon.co.uk/Green-Board-Games-4800...</td>\n",
              "      <td>Product Description Old fashioned version with...</td>\n",
              "      <td>Technical Details Item Weight1.6 Kg Product Di...</td>\n",
              "      <td>Product Description Old fashioned version with...</td>\n",
              "      <td>http://www.amazon.co.uk/Toys-Pure-Wooden-Domin...</td>\n",
              "      <td>what size are the dominoes? // The dominos are...</td>\n",
              "      <td>Hours of Fun! // 4.0 // 30 Dec. 2009 // By\\n  ...</td>\n",
              "      <td>{\"seller\"=&gt;[{\"Seller_name_1\"=&gt;\"Amazon.co.uk\", ...</td>\n",
              "    </tr>\n",
              "    <tr>\n",
              "      <th>9949</th>\n",
              "      <td>4ad0fbbcc5a6e94b298c58f16c589e6a</td>\n",
              "      <td>Dominoes- double six, plastic,black spots,spin...</td>\n",
              "      <td>A Kent &amp; Cleal game</td>\n",
              "      <td>£6.57</td>\n",
              "      <td>2 new</td>\n",
              "      <td>123</td>\n",
              "      <td>1.0</td>\n",
              "      <td>4.7 out of 5 stars</td>\n",
              "      <td>Games &gt; Dominoes &amp; Tile Games</td>\n",
              "      <td>http://www.amazon.co.uk/Cribbage-board-folding...</td>\n",
              "      <td>This is a good size set of solid, chunky doubl...</td>\n",
              "      <td>Technical Details Manufacturer recommended age...</td>\n",
              "      <td>This is a good size set of solid, chunky doubl...</td>\n",
              "      <td>http://www.amazon.co.uk/Waddingtons | http://w...</td>\n",
              "      <td>How many dominoes are in the box? // Sorry gav...</td>\n",
              "      <td>Simply the best // 5.0 // 14 Aug. 2011 // By\\n...</td>\n",
              "      <td>{\"seller\"=&gt;[{\"Seller_name_1\"=&gt;\"CHABRIAS LTD\", ...</td>\n",
              "    </tr>\n",
              "  </tbody>\n",
              "</table>\n",
              "<p>511 rows × 17 columns</p>\n",
              "</div>"
            ],
            "text/plain": [
              "                               uniq_id  ...                                            sellers\n",
              "0     eac7efa5dbd3d667f26eb3d3ab504464  ...  {\"seller\"=>[{\"Seller_name_1\"=>\"Amazon.co.uk\", ...\n",
              "2     348f344247b0c1a935b1223072ef9d8a  ...  {\"seller\"=>[{\"Seller_name_1\"=>\"DEAL-BOX\", \"Sel...\n",
              "7     87bbb472ef9d90dcef140a551665c929  ...  {\"seller\"=>[{\"Seller_name_1\"=>\"Toy Arena\", \"Se...\n",
              "8     7e2aa2b4596a39ba852449718413d7cc  ...  {\"seller\"=>[{\"Seller_name_1\"=>\"Amazon.co.uk\", ...\n",
              "30    93a2c5173f17b896dc614ffbac0c2f2c  ...  {\"seller\"=>[{\"Seller_name_1\"=>\"Gaugemaster\", \"...\n",
              "...                                ...  ...                                                ...\n",
              "9915  4f955d75276bc16b1ff27dd88c7dc686  ...  {\"seller\"=>[{\"Seller_name_1\"=>\"Angela's Books\"...\n",
              "9916  a1024a94e32b1be4ff83489152f9528d  ...  {\"seller\"=>[{\"Seller_name_1\"=>\"Brimtoy T/a Jes...\n",
              "9941  daea7a80ff206b03b32cedb026cdee63  ...  {\"seller\"=>[{\"Seller_name_1\"=>\"Fun Collectable...\n",
              "9948  39a1c10da42db0ae04a0af42b53d3048  ...  {\"seller\"=>[{\"Seller_name_1\"=>\"Amazon.co.uk\", ...\n",
              "9949  4ad0fbbcc5a6e94b298c58f16c589e6a  ...  {\"seller\"=>[{\"Seller_name_1\"=>\"CHABRIAS LTD\", ...\n",
              "\n",
              "[511 rows x 17 columns]"
            ]
          },
          "metadata": {
            "tags": []
          },
          "execution_count": 6
        }
      ]
    },
    {
      "cell_type": "markdown",
      "metadata": {
        "id": "tW2ru8THZIuT",
        "colab_type": "text"
      },
      "source": [
        ""
      ]
    },
    {
      "cell_type": "markdown",
      "metadata": {
        "id": "bxgQH2cg2Fc6",
        "colab_type": "text"
      },
      "source": [
        ""
      ]
    },
    {
      "cell_type": "markdown",
      "metadata": {
        "id": "s-wjqgzfqNgj",
        "colab_type": "text"
      },
      "source": [
        "We are interested in customer_reviews column. However, the column is not clean data. It contains review title, rating, date, customer name, and review all in one scell separated by //\n",
        "\n",
        "[Read this tutorial](https://www.geeksforgeeks.org/python-pandas-split-strings-into-two-list-columns-using-str-split/)\n",
        "\n",
        "Extract the customer reviews in another dataframe and separate each of the components\n"
      ]
    },
    {
      "cell_type": "code",
      "metadata": {
        "id": "B4uL5_5aqKfH",
        "colab_type": "code",
        "outputId": "1469af48-d720-4ac9-db29-bc85fbefd428",
        "colab": {
          "base_uri": "https://localhost:8080/",
          "height": 221
        }
      },
      "source": [
        "df2=df[\"customer_reviews\"].str.split(\"//\",n=-1,expand=False)\n",
        "df2"
      ],
      "execution_count": 7,
      "outputs": [
        {
          "output_type": "execute_result",
          "data": {
            "text/plain": [
              "0       [Worth Buying For The Pictures Alone (As Ever)...\n",
              "2       [**Highly Recommended!** ,  5.0 ,  26 May 2015...\n",
              "7       [Beautiful set ,  5.0 ,  3 Dec. 2015 ,  By\\n  ...\n",
              "8       [Five Stars ,  5.0 ,  23 Dec. 2015 ,  By\\n    ...\n",
              "30      [Five Stars ,  5.0 ,  26 Nov. 2014 ,  By\\n    ...\n",
              "                              ...                        \n",
              "9915    [Great game ,  5.0 ,  29 Jun. 2013 ,  By\\n    ...\n",
              "9916    [Tile/Domino Racks ,  5.0 ,  19 Jan. 2015 ,  B...\n",
              "9941    [Four Stars ,  4.0 ,  8 Feb. 2016 ,  By\\n    \\...\n",
              "9948    [Hours of Fun! ,  4.0 ,  30 Dec. 2009 ,  By\\n ...\n",
              "9949    [Simply the best ,  5.0 ,  14 Aug. 2011 ,  By\\...\n",
              "Name: customer_reviews, Length: 511, dtype: object"
            ]
          },
          "metadata": {
            "tags": []
          },
          "execution_count": 7
        }
      ]
    },
    {
      "cell_type": "markdown",
      "metadata": {
        "id": "mwj2oYFG9hQp",
        "colab_type": "text"
      },
      "source": [
        "**Extracting columns**"
      ]
    },
    {
      "cell_type": "code",
      "metadata": {
        "id": "QsxPN-uUqXPl",
        "colab_type": "code",
        "outputId": "3c884cbb-a48e-4469-b2d3-d49c08ae27b9",
        "colab": {
          "base_uri": "https://localhost:8080/",
          "height": 598
        }
      },
      "source": [
        "df[\"reviewtitle\"]=df[\"customer_reviews\"].str.extract('(\\w*\\s\\w*)', expand=True) \n",
        "df[\"rating\"]=df[\"customer_reviews\"].str.extract('(\\d\\.\\d)', expand=True)\n",
        "df[\"Date\"] = df[\"customer_reviews\"].str.extract('(\\d\\d\\d\\d)', expand=True)\n",
        "df.drop([\"customer_reviews\"],axis=1)\n",
        "df.head()"
      ],
      "execution_count": 44,
      "outputs": [
        {
          "output_type": "execute_result",
          "data": {
            "text/html": [
              "<div>\n",
              "<style scoped>\n",
              "    .dataframe tbody tr th:only-of-type {\n",
              "        vertical-align: middle;\n",
              "    }\n",
              "\n",
              "    .dataframe tbody tr th {\n",
              "        vertical-align: top;\n",
              "    }\n",
              "\n",
              "    .dataframe thead th {\n",
              "        text-align: right;\n",
              "    }\n",
              "</style>\n",
              "<table border=\"1\" class=\"dataframe\">\n",
              "  <thead>\n",
              "    <tr style=\"text-align: right;\">\n",
              "      <th></th>\n",
              "      <th>uniq_id</th>\n",
              "      <th>product_name</th>\n",
              "      <th>manufacturer</th>\n",
              "      <th>price</th>\n",
              "      <th>number_available_in_stock</th>\n",
              "      <th>number_of_reviews</th>\n",
              "      <th>number_of_answered_questions</th>\n",
              "      <th>average_review_rating</th>\n",
              "      <th>amazon_category_and_sub_category</th>\n",
              "      <th>customers_who_bought_this_item_also_bought</th>\n",
              "      <th>description</th>\n",
              "      <th>product_information</th>\n",
              "      <th>product_description</th>\n",
              "      <th>items_customers_buy_after_viewing_this_item</th>\n",
              "      <th>customer_questions_and_answers</th>\n",
              "      <th>customer_reviews</th>\n",
              "      <th>sellers</th>\n",
              "      <th>reviewtitle</th>\n",
              "      <th>rating</th>\n",
              "      <th>Date</th>\n",
              "      <th>customer name</th>\n",
              "    </tr>\n",
              "  </thead>\n",
              "  <tbody>\n",
              "    <tr>\n",
              "      <th>0</th>\n",
              "      <td>eac7efa5dbd3d667f26eb3d3ab504464</td>\n",
              "      <td>Hornby 2014 Catalogue</td>\n",
              "      <td>Hornby</td>\n",
              "      <td>£3.42</td>\n",
              "      <td>5 new</td>\n",
              "      <td>15</td>\n",
              "      <td>1.0</td>\n",
              "      <td>4.9 out of 5 stars</td>\n",
              "      <td>Hobbies &gt; Model Trains &amp; Railway Sets &gt; Rail V...</td>\n",
              "      <td>http://www.amazon.co.uk/Hornby-R8150-Catalogue...</td>\n",
              "      <td>Product Description Hornby 2014 Catalogue Box ...</td>\n",
              "      <td>Technical Details Item Weight640 g Product Dim...</td>\n",
              "      <td>Product Description Hornby 2014 Catalogue Box ...</td>\n",
              "      <td>http://www.amazon.co.uk/Hornby-R8150-Catalogue...</td>\n",
              "      <td>Does this catalogue detail all the previous Ho...</td>\n",
              "      <td>Worth Buying For The Pictures Alone (As Ever) ...</td>\n",
              "      <td>{\"seller\"=&gt;[{\"Seller_name_1\"=&gt;\"Amazon.co.uk\", ...</td>\n",
              "      <td>Worth Buying</td>\n",
              "      <td>4.0</td>\n",
              "      <td>2014</td>\n",
              "      <td>\\n</td>\n",
              "    </tr>\n",
              "    <tr>\n",
              "      <th>2</th>\n",
              "      <td>348f344247b0c1a935b1223072ef9d8a</td>\n",
              "      <td>CLASSIC TOY TRAIN SET TRACK CARRIAGES LIGHT EN...</td>\n",
              "      <td>ccf</td>\n",
              "      <td>£9.99</td>\n",
              "      <td>2 new</td>\n",
              "      <td>17</td>\n",
              "      <td>2.0</td>\n",
              "      <td>3.9 out of 5 stars</td>\n",
              "      <td>Hobbies &gt; Model Trains &amp; Railway Sets &gt; Rail V...</td>\n",
              "      <td>http://www.amazon.co.uk/Classic-Train-Lights-B...</td>\n",
              "      <td>BIG CLASSIC TOY TRAIN SET TRACK CARRIAGE LIGHT...</td>\n",
              "      <td>Technical Details Manufacturer recommended age...</td>\n",
              "      <td>BIG CLASSIC TOY TRAIN SET TRACK CARRIAGE LIGHT...</td>\n",
              "      <td>http://www.amazon.co.uk/Train-With-Tracks-Batt...</td>\n",
              "      <td>What is the gauge of the track // Hi Paul.Trut...</td>\n",
              "      <td>**Highly Recommended!** // 5.0 // 26 May 2015 ...</td>\n",
              "      <td>{\"seller\"=&gt;[{\"Seller_name_1\"=&gt;\"DEAL-BOX\", \"Sel...</td>\n",
              "      <td>Highly Recommended</td>\n",
              "      <td>5.0</td>\n",
              "      <td>2015</td>\n",
              "      <td>\\n</td>\n",
              "    </tr>\n",
              "    <tr>\n",
              "      <th>7</th>\n",
              "      <td>87bbb472ef9d90dcef140a551665c929</td>\n",
              "      <td>Hornby Santa's Express Train Set</td>\n",
              "      <td>Hornby</td>\n",
              "      <td>£69.93</td>\n",
              "      <td>3 new</td>\n",
              "      <td>36</td>\n",
              "      <td>7.0</td>\n",
              "      <td>4.3 out of 5 stars</td>\n",
              "      <td>Hobbies &gt; Model Trains &amp; Railway Sets &gt; Rail V...</td>\n",
              "      <td>http://www.amazon.co.uk/Hornby-R8221-Gauge-Tra...</td>\n",
              "      <td>Product Description Inject a bit of Hornby mag...</td>\n",
              "      <td>Technical Details Item Weight1.2 Kg Product Di...</td>\n",
              "      <td>Product Description Inject a bit of Hornby mag...</td>\n",
              "      <td>http://www.amazon.co.uk/Hornby-R1151-Caledonia...</td>\n",
              "      <td>Can this train go backwards as well as forward...</td>\n",
              "      <td>Beautiful set // 5.0 // 3 Dec. 2015 // By\\n   ...</td>\n",
              "      <td>{\"seller\"=&gt;[{\"Seller_name_1\"=&gt;\"Toy Arena\", \"Se...</td>\n",
              "      <td>Beautiful set</td>\n",
              "      <td>5.0</td>\n",
              "      <td>2015</td>\n",
              "      <td>\\n</td>\n",
              "    </tr>\n",
              "    <tr>\n",
              "      <th>8</th>\n",
              "      <td>7e2aa2b4596a39ba852449718413d7cc</td>\n",
              "      <td>Hornby Gauge Western Express Digital Train Set...</td>\n",
              "      <td>Hornby</td>\n",
              "      <td>£235.58</td>\n",
              "      <td>4 new</td>\n",
              "      <td>1</td>\n",
              "      <td>1.0</td>\n",
              "      <td>5.0 out of 5 stars</td>\n",
              "      <td>Hobbies &gt; Model Trains &amp; Railway Sets &gt; Rail V...</td>\n",
              "      <td>http://www.amazon.co.uk/Hornby-Western-Master-...</td>\n",
              "      <td>Western Express Digital Train Set with eLink a...</td>\n",
              "      <td>Technical Details Item Weight2.3 Kg Product Di...</td>\n",
              "      <td>Western Express Digital Train Set with eLink a...</td>\n",
              "      <td>http://www.amazon.co.uk/Hornby-Western-Master-...</td>\n",
              "      <td>The description is incorrect.  the hornby site...</td>\n",
              "      <td>Five Stars // 5.0 // 23 Dec. 2015 // By\\n    \\...</td>\n",
              "      <td>{\"seller\"=&gt;[{\"Seller_name_1\"=&gt;\"Amazon.co.uk\", ...</td>\n",
              "      <td>Five Stars</td>\n",
              "      <td>5.0</td>\n",
              "      <td>2015</td>\n",
              "      <td>\\n</td>\n",
              "    </tr>\n",
              "    <tr>\n",
              "      <th>30</th>\n",
              "      <td>93a2c5173f17b896dc614ffbac0c2f2c</td>\n",
              "      <td>Hornby R3246TTS LNER 2-8-2 'Cock O' The North'...</td>\n",
              "      <td>Hornby</td>\n",
              "      <td>£139.95</td>\n",
              "      <td>3 new</td>\n",
              "      <td>1</td>\n",
              "      <td>1.0</td>\n",
              "      <td>5.0 out of 5 stars</td>\n",
              "      <td>Hobbies &gt; Model Trains &amp; Railway Sets &gt; Rail V...</td>\n",
              "      <td>http://www.amazon.co.uk/Hornby-Gauge-Master-Gl...</td>\n",
              "      <td>Suitable for the following scale(s): OO Scale</td>\n",
              "      <td>Technical Details Manufacturer recommended age...</td>\n",
              "      <td>Suitable for the following scale(s): OO Scale</td>\n",
              "      <td>http://www.amazon.co.uk/Hornby-Gauge-Master-Gl...</td>\n",
              "      <td>I'm guessing this is the railroad version, as ...</td>\n",
              "      <td>Five Stars // 5.0 // 26 Nov. 2014 // By\\n    \\...</td>\n",
              "      <td>{\"seller\"=&gt;[{\"Seller_name_1\"=&gt;\"Gaugemaster\", \"...</td>\n",
              "      <td>Five Stars</td>\n",
              "      <td>5.0</td>\n",
              "      <td>2014</td>\n",
              "      <td>\\n</td>\n",
              "    </tr>\n",
              "  </tbody>\n",
              "</table>\n",
              "</div>"
            ],
            "text/plain": [
              "                             uniq_id  ... customer name\n",
              "0   eac7efa5dbd3d667f26eb3d3ab504464  ...          \\n  \n",
              "2   348f344247b0c1a935b1223072ef9d8a  ...          \\n  \n",
              "7   87bbb472ef9d90dcef140a551665c929  ...          \\n  \n",
              "8   7e2aa2b4596a39ba852449718413d7cc  ...          \\n  \n",
              "30  93a2c5173f17b896dc614ffbac0c2f2c  ...          \\n  \n",
              "\n",
              "[5 rows x 21 columns]"
            ]
          },
          "metadata": {
            "tags": []
          },
          "execution_count": 44
        }
      ]
    },
    {
      "cell_type": "code",
      "metadata": {
        "id": "9_4fIVr0rVgm",
        "colab_type": "code",
        "colab": {}
      },
      "source": [
        "# your code here\n",
        "s=df['reviewtitle']\n",
        "l=list(s)"
      ],
      "execution_count": 0,
      "outputs": []
    },
    {
      "cell_type": "markdown",
      "metadata": {
        "id": "ddXp_9-4-G92",
        "colab_type": "text"
      },
      "source": [
        "**Tokenization**"
      ]
    },
    {
      "cell_type": "code",
      "metadata": {
        "id": "EiihVzPCoas4",
        "colab_type": "code",
        "colab": {}
      },
      "source": [
        "import nltk\n",
        "nltk.download(\"punkt\")"
      ],
      "execution_count": 0,
      "outputs": []
    },
    {
      "cell_type": "code",
      "metadata": {
        "id": "UPppSsaPxQay",
        "colab_type": "code",
        "colab": {}
      },
      "source": [
        "s1=\" \"\n",
        "s2=s1.join(l)\n",
        "print(s2)"
      ],
      "execution_count": 0,
      "outputs": []
    },
    {
      "cell_type": "code",
      "metadata": {
        "id": "HK6OxVn6uutJ",
        "colab_type": "code",
        "outputId": "f2cc6896-4553-42b9-e37a-317c63551a3e",
        "colab": {
          "base_uri": "https://localhost:8080/",
          "height": 54
        }
      },
      "source": [
        "\n",
        "from nltk.tokenize import word_tokenize,sent_tokenize\n",
        "sents=sent_tokenize(s2)\n",
        "print(sents)"
      ],
      "execution_count": 12,
      "outputs": [
        {
          "output_type": "stream",
          "text": [
            "['Worth Buying Highly Recommended Beautiful set Five Stars Five Stars Great value Horny R1138 So cheap Excellent  Great train H0 Mehano and lots great star Lots of  portable Great components My happy Five Stars Endless possibilities Five Stars brilliant   but  something fantastic product Darth Vader Superb Quality Over the Thumbs up Five Stars I think Beautiful   Kenworth Great bike  The He will must have Best classic Good fun A highly  Now Four Stars Batcave review Another Missed She seems EPIC SURPRISE This is Hours of Five Stars A great looms  Fantastic value easel paper X Cut Holiday fun One of loved it What a Great toy good compact Some of Best paddling Cornelius was alpha trooper Great for Great for great  Beware the Dirty Water quality control t bother Noodle Woggle Good but brill armbands  sturdy Excellent  Does what FANTASTIC ITEM Love this good  Great but s absolutely Happy kids easy set This product Great for Five Stars Very good Good fit  recommend The children Tattoos are read the Very small Five Stars Unless you Carrera RC I was Great Starter good purchase   Super Fast My son Both son A great Rock and Good For Five Stars Great product  grandsons Decent Buy Cards mad The Champions Five Stars Good product Five Stars Five Stars Cheap and Bought as would most i got am sure Five Stars Great  Great products Not the Looks just Good quality Four Stars Five Stars OK quality super fast balloons fine Modelling balloons Perfect DIY Excellent capes Outrageously good Very good Great value Good value Very quick   power ranger Good cloak Got here Good  Five Stars Bad overall s King Great buy No way Are you Not the citroen  Great Quadtrac Great Car Five Stars Excitement  Very good Great bit great kit Five Stars churchill tank Tamiya Hanomag Best of Five Stars Five Stars Just what Going to Party Eye Will serve Nice sculpt Not so Great Toy Movie accurate   A great Four year  to Five Stars He loved  bought Love all Exactly as Have been just what This isn Good value Fly around Much loved Bruder New looking batmobile Fab  miles RC Much loved It looks Five Stars Recommended  Colour changing Cars cars Fairly poor OK  Amazing toy pack cars Great gifts dragon 2 he showed Fake  Small nice  gorgeous Love It Make it Good quality Easy to Brilliant Present Pink and honey bear puppet magic Loved by Great puppet Fabulous toy Fantastic and hand  Easy to A lovely Elephant hand For small Monstrous Fun Happy with Bound  Pleasantly surprised otherwise a Used for Great product Perfect Party A stimulating Good cube Amazing Maze Five Stars Music to Perfect  great item pink bunting Great item ok  Just what Mega Charizard Card Review Loads of Beautiful cards larger than   yveltal ex Great Value Three Stars Five Stars   Light and Really good Many laughs Five Stars Good set Five Stars Uno    Product itself The best   Five Stars Hours of Wheel in brilliant  Nice and cards are Awesome   products Great quality ish  KATO TRAM Excellent Product London Wooden Really great TT top Five Stars Five Stars Emek Scania Nice Class BMW Z4 Bburago 1 007 heaven It looks Vespa Scooter   Three Stars Great Magnets Very happy Playmobil Indian Well made Four Stars Happy little Set of Dinosaur fun A great t choose Thank you But  work nice  the The Headless Great item new knight s Ood great set just the Good Quality Polly wolly t buy Well made Party favours Satisfactory for Art set s use Super fun Hours of they are The girls Best kiddy Five Stars My daughter Just the Excellent quality Brilliant markers Brilliant  TOP Pencils Does the Little things My daughter Perfect Toy Let it Easy to Her most Brilliant  Jess and Excellent product over priced Great toy Great for Great product Five Stars BOSS  This was Great Model Five Stars Light and Perfect for Pinwheel Magic Four Stars I couldn Modelling  Great product Five Stars A great Holiday heaven kite flying Fantastic kite A really Easy to Superb handling Compacts down My third Favourite toy Best Toy More Grease Five Stars Lovely early Wonderful again Kids Jigsaw Really sturdy A robustly my son Gift for reminder of Lovely little John Deere Excellent model Five Stars bit of Ferrari  Fantastic sturdy Ok only Good quality Power Loader   lovely little Fantastic train Doesnt fit Brio 33097 thomas the lovely painted The sound Another great An excellent Diesel 10 Big Red Superb grandson Mobile cargo Five Stars Hiro is A great Five Stars Grandson loves  portable Just brilliant Tipping Trailer Good quality Made my Great value Hours of Excellent game Hours of Dream castle Lovely handmade Five Stars 30 inch Great talking Well made the recipient Much smaller Great toy Economical postage Daryl Dixon Five Stars Five Stars Five Stars Skyward Sword These Hulk Five Stars it is Two Stars It is Lovely gift A great Solid Build fun toy   Dangerous cord A midget Really well Gift for Lovely quality Five Stars Beautifully made large chimpanzee Entertaining fun Interesting corgi bostin  defender 90 Brilliant  Five Stars Fantastic model 10  Super bateau Five Stars  what Brilliant Van Good for mortified  Five Stars My 7 Joggle  Went down Fantastic Game Thomas game hello kitty Not happy Christmas presents   teach your Everything a and my Mexican trains Educational and great game Harmless fun spots before The new Happy families Educational  Much more Great fun  such good game Great Godzilla  not Would not Amazing Attention Good gift Cool figure Not Bad Best Arnold Iron man A lovely Fab purchase Five Stars Making Snowflakes AWESOME GAME would recommend Great game Domino Racks Four Stars Hours of Simply the']\n"
          ],
          "name": "stdout"
        }
      ]
    },
    {
      "cell_type": "code",
      "metadata": {
        "id": "mXHahPKtx4rO",
        "colab_type": "code",
        "colab": {}
      },
      "source": [
        "words=[word_tokenize(sent) for sent in sents]\n",
        "print(words)"
      ],
      "execution_count": 0,
      "outputs": []
    },
    {
      "cell_type": "code",
      "metadata": {
        "id": "AUeCIMV-zlnb",
        "colab_type": "code",
        "outputId": "5730dd53-a8f4-4acc-e368-d420ed3d58c6",
        "colab": {
          "base_uri": "https://localhost:8080/",
          "height": 54
        }
      },
      "source": [
        "tokenizer = nltk.RegexpTokenizer(r\"\\w+\")\n",
        "new_words = tokenizer.tokenize(s2)\n",
        "print(new_words)"
      ],
      "execution_count": 14,
      "outputs": [
        {
          "output_type": "stream",
          "text": [
            "['Worth', 'Buying', 'Highly', 'Recommended', 'Beautiful', 'set', 'Five', 'Stars', 'Five', 'Stars', 'Great', 'value', 'Horny', 'R1138', 'So', 'cheap', 'Excellent', 'Great', 'train', 'H0', 'Mehano', 'and', 'lots', 'great', 'star', 'Lots', 'of', 'portable', 'Great', 'components', 'My', 'happy', 'Five', 'Stars', 'Endless', 'possibilities', 'Five', 'Stars', 'brilliant', 'but', 'something', 'fantastic', 'product', 'Darth', 'Vader', 'Superb', 'Quality', 'Over', 'the', 'Thumbs', 'up', 'Five', 'Stars', 'I', 'think', 'Beautiful', 'Kenworth', 'Great', 'bike', 'The', 'He', 'will', 'must', 'have', 'Best', 'classic', 'Good', 'fun', 'A', 'highly', 'Now', 'Four', 'Stars', 'Batcave', 'review', 'Another', 'Missed', 'She', 'seems', 'EPIC', 'SURPRISE', 'This', 'is', 'Hours', 'of', 'Five', 'Stars', 'A', 'great', 'looms', 'Fantastic', 'value', 'easel', 'paper', 'X', 'Cut', 'Holiday', 'fun', 'One', 'of', 'loved', 'it', 'What', 'a', 'Great', 'toy', 'good', 'compact', 'Some', 'of', 'Best', 'paddling', 'Cornelius', 'was', 'alpha', 'trooper', 'Great', 'for', 'Great', 'for', 'great', 'Beware', 'the', 'Dirty', 'Water', 'quality', 'control', 't', 'bother', 'Noodle', 'Woggle', 'Good', 'but', 'brill', 'armbands', 'sturdy', 'Excellent', 'Does', 'what', 'FANTASTIC', 'ITEM', 'Love', 'this', 'good', 'Great', 'but', 's', 'absolutely', 'Happy', 'kids', 'easy', 'set', 'This', 'product', 'Great', 'for', 'Five', 'Stars', 'Very', 'good', 'Good', 'fit', 'recommend', 'The', 'children', 'Tattoos', 'are', 'read', 'the', 'Very', 'small', 'Five', 'Stars', 'Unless', 'you', 'Carrera', 'RC', 'I', 'was', 'Great', 'Starter', 'good', 'purchase', 'Super', 'Fast', 'My', 'son', 'Both', 'son', 'A', 'great', 'Rock', 'and', 'Good', 'For', 'Five', 'Stars', 'Great', 'product', 'grandsons', 'Decent', 'Buy', 'Cards', 'mad', 'The', 'Champions', 'Five', 'Stars', 'Good', 'product', 'Five', 'Stars', 'Five', 'Stars', 'Cheap', 'and', 'Bought', 'as', 'would', 'most', 'i', 'got', 'am', 'sure', 'Five', 'Stars', 'Great', 'Great', 'products', 'Not', 'the', 'Looks', 'just', 'Good', 'quality', 'Four', 'Stars', 'Five', 'Stars', 'OK', 'quality', 'super', 'fast', 'balloons', 'fine', 'Modelling', 'balloons', 'Perfect', 'DIY', 'Excellent', 'capes', 'Outrageously', 'good', 'Very', 'good', 'Great', 'value', 'Good', 'value', 'Very', 'quick', 'power', 'ranger', 'Good', 'cloak', 'Got', 'here', 'Good', 'Five', 'Stars', 'Bad', 'overall', 's', 'King', 'Great', 'buy', 'No', 'way', 'Are', 'you', 'Not', 'the', 'citroen', 'Great', 'Quadtrac', 'Great', 'Car', 'Five', 'Stars', 'Excitement', 'Very', 'good', 'Great', 'bit', 'great', 'kit', 'Five', 'Stars', 'churchill', 'tank', 'Tamiya', 'Hanomag', 'Best', 'of', 'Five', 'Stars', 'Five', 'Stars', 'Just', 'what', 'Going', 'to', 'Party', 'Eye', 'Will', 'serve', 'Nice', 'sculpt', 'Not', 'so', 'Great', 'Toy', 'Movie', 'accurate', 'A', 'great', 'Four', 'year', 'to', 'Five', 'Stars', 'He', 'loved', 'bought', 'Love', 'all', 'Exactly', 'as', 'Have', 'been', 'just', 'what', 'This', 'isn', 'Good', 'value', 'Fly', 'around', 'Much', 'loved', 'Bruder', 'New', 'looking', 'batmobile', 'Fab', 'miles', 'RC', 'Much', 'loved', 'It', 'looks', 'Five', 'Stars', 'Recommended', 'Colour', 'changing', 'Cars', 'cars', 'Fairly', 'poor', 'OK', 'Amazing', 'toy', 'pack', 'cars', 'Great', 'gifts', 'dragon', '2', 'he', 'showed', 'Fake', 'Small', 'nice', 'gorgeous', 'Love', 'It', 'Make', 'it', 'Good', 'quality', 'Easy', 'to', 'Brilliant', 'Present', 'Pink', 'and', 'honey', 'bear', 'puppet', 'magic', 'Loved', 'by', 'Great', 'puppet', 'Fabulous', 'toy', 'Fantastic', 'and', 'hand', 'Easy', 'to', 'A', 'lovely', 'Elephant', 'hand', 'For', 'small', 'Monstrous', 'Fun', 'Happy', 'with', 'Bound', 'Pleasantly', 'surprised', 'otherwise', 'a', 'Used', 'for', 'Great', 'product', 'Perfect', 'Party', 'A', 'stimulating', 'Good', 'cube', 'Amazing', 'Maze', 'Five', 'Stars', 'Music', 'to', 'Perfect', 'great', 'item', 'pink', 'bunting', 'Great', 'item', 'ok', 'Just', 'what', 'Mega', 'Charizard', 'Card', 'Review', 'Loads', 'of', 'Beautiful', 'cards', 'larger', 'than', 'yveltal', 'ex', 'Great', 'Value', 'Three', 'Stars', 'Five', 'Stars', 'Light', 'and', 'Really', 'good', 'Many', 'laughs', 'Five', 'Stars', 'Good', 'set', 'Five', 'Stars', 'Uno', 'Product', 'itself', 'The', 'best', 'Five', 'Stars', 'Hours', 'of', 'Wheel', 'in', 'brilliant', 'Nice', 'and', 'cards', 'are', 'Awesome', 'products', 'Great', 'quality', 'ish', 'KATO', 'TRAM', 'Excellent', 'Product', 'London', 'Wooden', 'Really', 'great', 'TT', 'top', 'Five', 'Stars', 'Five', 'Stars', 'Emek', 'Scania', 'Nice', 'Class', 'BMW', 'Z4', 'Bburago', '1', '007', 'heaven', 'It', 'looks', 'Vespa', 'Scooter', 'Three', 'Stars', 'Great', 'Magnets', 'Very', 'happy', 'Playmobil', 'Indian', 'Well', 'made', 'Four', 'Stars', 'Happy', 'little', 'Set', 'of', 'Dinosaur', 'fun', 'A', 'great', 't', 'choose', 'Thank', 'you', 'But', 'work', 'nice', 'the', 'The', 'Headless', 'Great', 'item', 'new', 'knight', 's', 'Ood', 'great', 'set', 'just', 'the', 'Good', 'Quality', 'Polly', 'wolly', 't', 'buy', 'Well', 'made', 'Party', 'favours', 'Satisfactory', 'for', 'Art', 'set', 's', 'use', 'Super', 'fun', 'Hours', 'of', 'they', 'are', 'The', 'girls', 'Best', 'kiddy', 'Five', 'Stars', 'My', 'daughter', 'Just', 'the', 'Excellent', 'quality', 'Brilliant', 'markers', 'Brilliant', 'TOP', 'Pencils', 'Does', 'the', 'Little', 'things', 'My', 'daughter', 'Perfect', 'Toy', 'Let', 'it', 'Easy', 'to', 'Her', 'most', 'Brilliant', 'Jess', 'and', 'Excellent', 'product', 'over', 'priced', 'Great', 'toy', 'Great', 'for', 'Great', 'product', 'Five', 'Stars', 'BOSS', 'This', 'was', 'Great', 'Model', 'Five', 'Stars', 'Light', 'and', 'Perfect', 'for', 'Pinwheel', 'Magic', 'Four', 'Stars', 'I', 'couldn', 'Modelling', 'Great', 'product', 'Five', 'Stars', 'A', 'great', 'Holiday', 'heaven', 'kite', 'flying', 'Fantastic', 'kite', 'A', 'really', 'Easy', 'to', 'Superb', 'handling', 'Compacts', 'down', 'My', 'third', 'Favourite', 'toy', 'Best', 'Toy', 'More', 'Grease', 'Five', 'Stars', 'Lovely', 'early', 'Wonderful', 'again', 'Kids', 'Jigsaw', 'Really', 'sturdy', 'A', 'robustly', 'my', 'son', 'Gift', 'for', 'reminder', 'of', 'Lovely', 'little', 'John', 'Deere', 'Excellent', 'model', 'Five', 'Stars', 'bit', 'of', 'Ferrari', 'Fantastic', 'sturdy', 'Ok', 'only', 'Good', 'quality', 'Power', 'Loader', 'lovely', 'little', 'Fantastic', 'train', 'Doesnt', 'fit', 'Brio', '33097', 'thomas', 'the', 'lovely', 'painted', 'The', 'sound', 'Another', 'great', 'An', 'excellent', 'Diesel', '10', 'Big', 'Red', 'Superb', 'grandson', 'Mobile', 'cargo', 'Five', 'Stars', 'Hiro', 'is', 'A', 'great', 'Five', 'Stars', 'Grandson', 'loves', 'portable', 'Just', 'brilliant', 'Tipping', 'Trailer', 'Good', 'quality', 'Made', 'my', 'Great', 'value', 'Hours', 'of', 'Excellent', 'game', 'Hours', 'of', 'Dream', 'castle', 'Lovely', 'handmade', 'Five', 'Stars', '30', 'inch', 'Great', 'talking', 'Well', 'made', 'the', 'recipient', 'Much', 'smaller', 'Great', 'toy', 'Economical', 'postage', 'Daryl', 'Dixon', 'Five', 'Stars', 'Five', 'Stars', 'Five', 'Stars', 'Skyward', 'Sword', 'These', 'Hulk', 'Five', 'Stars', 'it', 'is', 'Two', 'Stars', 'It', 'is', 'Lovely', 'gift', 'A', 'great', 'Solid', 'Build', 'fun', 'toy', 'Dangerous', 'cord', 'A', 'midget', 'Really', 'well', 'Gift', 'for', 'Lovely', 'quality', 'Five', 'Stars', 'Beautifully', 'made', 'large', 'chimpanzee', 'Entertaining', 'fun', 'Interesting', 'corgi', 'bostin', 'defender', '90', 'Brilliant', 'Five', 'Stars', 'Fantastic', 'model', '10', 'Super', 'bateau', 'Five', 'Stars', 'what', 'Brilliant', 'Van', 'Good', 'for', 'mortified', 'Five', 'Stars', 'My', '7', 'Joggle', 'Went', 'down', 'Fantastic', 'Game', 'Thomas', 'game', 'hello', 'kitty', 'Not', 'happy', 'Christmas', 'presents', 'teach', 'your', 'Everything', 'a', 'and', 'my', 'Mexican', 'trains', 'Educational', 'and', 'great', 'game', 'Harmless', 'fun', 'spots', 'before', 'The', 'new', 'Happy', 'families', 'Educational', 'Much', 'more', 'Great', 'fun', 'such', 'good', 'game', 'Great', 'Godzilla', 'not', 'Would', 'not', 'Amazing', 'Attention', 'Good', 'gift', 'Cool', 'figure', 'Not', 'Bad', 'Best', 'Arnold', 'Iron', 'man', 'A', 'lovely', 'Fab', 'purchase', 'Five', 'Stars', 'Making', 'Snowflakes', 'AWESOME', 'GAME', 'would', 'recommend', 'Great', 'game', 'Domino', 'Racks', 'Four', 'Stars', 'Hours', 'of', 'Simply', 'the']\n"
          ],
          "name": "stdout"
        }
      ]
    },
    {
      "cell_type": "markdown",
      "metadata": {
        "id": "1_gzdqFxrWyW",
        "colab_type": "text"
      },
      "source": [
        "Remove stopwords in the nlpreview column"
      ]
    },
    {
      "cell_type": "markdown",
      "metadata": {
        "id": "cQzugO0c-Pa1",
        "colab_type": "text"
      },
      "source": [
        "**Removing stopwords**"
      ]
    },
    {
      "cell_type": "code",
      "metadata": {
        "id": "ZZtMwBlurZJH",
        "colab_type": "code",
        "outputId": "01fbe9e5-a95d-4efc-f26a-d838dd473e7b",
        "colab": {
          "base_uri": "https://localhost:8080/",
          "height": 51
        }
      },
      "source": [
        "# your code here\n",
        "from nltk.corpus import stopwords\n",
        "nltk.download('stopwords')\n",
        "from string import punctuation\n",
        "customStopWords=set(stopwords.words('english')+list(punctuation))"
      ],
      "execution_count": 15,
      "outputs": [
        {
          "output_type": "stream",
          "text": [
            "[nltk_data] Downloading package stopwords to /root/nltk_data...\n",
            "[nltk_data]   Unzipping corpora/stopwords.zip.\n"
          ],
          "name": "stdout"
        }
      ]
    },
    {
      "cell_type": "code",
      "metadata": {
        "id": "1O7EratQ0RsH",
        "colab_type": "code",
        "outputId": "096ec31b-b687-4ae3-e6b6-8bcb2b33c59a",
        "colab": {
          "base_uri": "https://localhost:8080/",
          "height": 54
        }
      },
      "source": [
        "stopwords=[word for word in word_tokenize(s2) if word not in customStopWords]\n",
        "print(stopwords)"
      ],
      "execution_count": 16,
      "outputs": [
        {
          "output_type": "stream",
          "text": [
            "['Worth', 'Buying', 'Highly', 'Recommended', 'Beautiful', 'set', 'Five', 'Stars', 'Five', 'Stars', 'Great', 'value', 'Horny', 'R1138', 'So', 'cheap', 'Excellent', 'Great', 'train', 'H0', 'Mehano', 'lots', 'great', 'star', 'Lots', 'portable', 'Great', 'components', 'My', 'happy', 'Five', 'Stars', 'Endless', 'possibilities', 'Five', 'Stars', 'brilliant', 'something', 'fantastic', 'product', 'Darth', 'Vader', 'Superb', 'Quality', 'Over', 'Thumbs', 'Five', 'Stars', 'I', 'think', 'Beautiful', 'Kenworth', 'Great', 'bike', 'The', 'He', 'must', 'Best', 'classic', 'Good', 'fun', 'A', 'highly', 'Now', 'Four', 'Stars', 'Batcave', 'review', 'Another', 'Missed', 'She', 'seems', 'EPIC', 'SURPRISE', 'This', 'Hours', 'Five', 'Stars', 'A', 'great', 'looms', 'Fantastic', 'value', 'easel', 'paper', 'X', 'Cut', 'Holiday', 'fun', 'One', 'loved', 'What', 'Great', 'toy', 'good', 'compact', 'Some', 'Best', 'paddling', 'Cornelius', 'alpha', 'trooper', 'Great', 'Great', 'great', 'Beware', 'Dirty', 'Water', 'quality', 'control', 'bother', 'Noodle', 'Woggle', 'Good', 'brill', 'armbands', 'sturdy', 'Excellent', 'Does', 'FANTASTIC', 'ITEM', 'Love', 'good', 'Great', 'absolutely', 'Happy', 'kids', 'easy', 'set', 'This', 'product', 'Great', 'Five', 'Stars', 'Very', 'good', 'Good', 'fit', 'recommend', 'The', 'children', 'Tattoos', 'read', 'Very', 'small', 'Five', 'Stars', 'Unless', 'Carrera', 'RC', 'I', 'Great', 'Starter', 'good', 'purchase', 'Super', 'Fast', 'My', 'son', 'Both', 'son', 'A', 'great', 'Rock', 'Good', 'For', 'Five', 'Stars', 'Great', 'product', 'grandsons', 'Decent', 'Buy', 'Cards', 'mad', 'The', 'Champions', 'Five', 'Stars', 'Good', 'product', 'Five', 'Stars', 'Five', 'Stars', 'Cheap', 'Bought', 'would', 'got', 'sure', 'Five', 'Stars', 'Great', 'Great', 'products', 'Not', 'Looks', 'Good', 'quality', 'Four', 'Stars', 'Five', 'Stars', 'OK', 'quality', 'super', 'fast', 'balloons', 'fine', 'Modelling', 'balloons', 'Perfect', 'DIY', 'Excellent', 'capes', 'Outrageously', 'good', 'Very', 'good', 'Great', 'value', 'Good', 'value', 'Very', 'quick', 'power', 'ranger', 'Good', 'cloak', 'Got', 'Good', 'Five', 'Stars', 'Bad', 'overall', 'King', 'Great', 'buy', 'No', 'way', 'Are', 'Not', 'citroen', 'Great', 'Quadtrac', 'Great', 'Car', 'Five', 'Stars', 'Excitement', 'Very', 'good', 'Great', 'bit', 'great', 'kit', 'Five', 'Stars', 'churchill', 'tank', 'Tamiya', 'Hanomag', 'Best', 'Five', 'Stars', 'Five', 'Stars', 'Just', 'Going', 'Party', 'Eye', 'Will', 'serve', 'Nice', 'sculpt', 'Not', 'Great', 'Toy', 'Movie', 'accurate', 'A', 'great', 'Four', 'year', 'Five', 'Stars', 'He', 'loved', 'bought', 'Love', 'Exactly', 'Have', 'This', 'Good', 'value', 'Fly', 'around', 'Much', 'loved', 'Bruder', 'New', 'looking', 'batmobile', 'Fab', 'miles', 'RC', 'Much', 'loved', 'It', 'looks', 'Five', 'Stars', 'Recommended', 'Colour', 'changing', 'Cars', 'cars', 'Fairly', 'poor', 'OK', 'Amazing', 'toy', 'pack', 'cars', 'Great', 'gifts', 'dragon', '2', 'showed', 'Fake', 'Small', 'nice', 'gorgeous', 'Love', 'It', 'Make', 'Good', 'quality', 'Easy', 'Brilliant', 'Present', 'Pink', 'honey', 'bear', 'puppet', 'magic', 'Loved', 'Great', 'puppet', 'Fabulous', 'toy', 'Fantastic', 'hand', 'Easy', 'A', 'lovely', 'Elephant', 'hand', 'For', 'small', 'Monstrous', 'Fun', 'Happy', 'Bound', 'Pleasantly', 'surprised', 'otherwise', 'Used', 'Great', 'product', 'Perfect', 'Party', 'A', 'stimulating', 'Good', 'cube', 'Amazing', 'Maze', 'Five', 'Stars', 'Music', 'Perfect', 'great', 'item', 'pink', 'bunting', 'Great', 'item', 'ok', 'Just', 'Mega', 'Charizard', 'Card', 'Review', 'Loads', 'Beautiful', 'cards', 'larger', 'yveltal', 'ex', 'Great', 'Value', 'Three', 'Stars', 'Five', 'Stars', 'Light', 'Really', 'good', 'Many', 'laughs', 'Five', 'Stars', 'Good', 'set', 'Five', 'Stars', 'Uno', 'Product', 'The', 'best', 'Five', 'Stars', 'Hours', 'Wheel', 'brilliant', 'Nice', 'cards', 'Awesome', 'products', 'Great', 'quality', 'ish', 'KATO', 'TRAM', 'Excellent', 'Product', 'London', 'Wooden', 'Really', 'great', 'TT', 'top', 'Five', 'Stars', 'Five', 'Stars', 'Emek', 'Scania', 'Nice', 'Class', 'BMW', 'Z4', 'Bburago', '1', '007', 'heaven', 'It', 'looks', 'Vespa', 'Scooter', 'Three', 'Stars', 'Great', 'Magnets', 'Very', 'happy', 'Playmobil', 'Indian', 'Well', 'made', 'Four', 'Stars', 'Happy', 'little', 'Set', 'Dinosaur', 'fun', 'A', 'great', 'choose', 'Thank', 'But', 'work', 'nice', 'The', 'Headless', 'Great', 'item', 'new', 'knight', 'Ood', 'great', 'set', 'Good', 'Quality', 'Polly', 'wolly', 'buy', 'Well', 'made', 'Party', 'favours', 'Satisfactory', 'Art', 'set', 'use', 'Super', 'fun', 'Hours', 'The', 'girls', 'Best', 'kiddy', 'Five', 'Stars', 'My', 'daughter', 'Just', 'Excellent', 'quality', 'Brilliant', 'markers', 'Brilliant', 'TOP', 'Pencils', 'Does', 'Little', 'things', 'My', 'daughter', 'Perfect', 'Toy', 'Let', 'Easy', 'Her', 'Brilliant', 'Jess', 'Excellent', 'product', 'priced', 'Great', 'toy', 'Great', 'Great', 'product', 'Five', 'Stars', 'BOSS', 'This', 'Great', 'Model', 'Five', 'Stars', 'Light', 'Perfect', 'Pinwheel', 'Magic', 'Four', 'Stars', 'I', 'Modelling', 'Great', 'product', 'Five', 'Stars', 'A', 'great', 'Holiday', 'heaven', 'kite', 'flying', 'Fantastic', 'kite', 'A', 'really', 'Easy', 'Superb', 'handling', 'Compacts', 'My', 'third', 'Favourite', 'toy', 'Best', 'Toy', 'More', 'Grease', 'Five', 'Stars', 'Lovely', 'early', 'Wonderful', 'Kids', 'Jigsaw', 'Really', 'sturdy', 'A', 'robustly', 'son', 'Gift', 'reminder', 'Lovely', 'little', 'John', 'Deere', 'Excellent', 'model', 'Five', 'Stars', 'bit', 'Ferrari', 'Fantastic', 'sturdy', 'Ok', 'Good', 'quality', 'Power', 'Loader', 'lovely', 'little', 'Fantastic', 'train', 'Doesnt', 'fit', 'Brio', '33097', 'thomas', 'lovely', 'painted', 'The', 'sound', 'Another', 'great', 'An', 'excellent', 'Diesel', '10', 'Big', 'Red', 'Superb', 'grandson', 'Mobile', 'cargo', 'Five', 'Stars', 'Hiro', 'A', 'great', 'Five', 'Stars', 'Grandson', 'loves', 'portable', 'Just', 'brilliant', 'Tipping', 'Trailer', 'Good', 'quality', 'Made', 'Great', 'value', 'Hours', 'Excellent', 'game', 'Hours', 'Dream', 'castle', 'Lovely', 'handmade', 'Five', 'Stars', '30', 'inch', 'Great', 'talking', 'Well', 'made', 'recipient', 'Much', 'smaller', 'Great', 'toy', 'Economical', 'postage', 'Daryl', 'Dixon', 'Five', 'Stars', 'Five', 'Stars', 'Five', 'Stars', 'Skyward', 'Sword', 'These', 'Hulk', 'Five', 'Stars', 'Two', 'Stars', 'It', 'Lovely', 'gift', 'A', 'great', 'Solid', 'Build', 'fun', 'toy', 'Dangerous', 'cord', 'A', 'midget', 'Really', 'well', 'Gift', 'Lovely', 'quality', 'Five', 'Stars', 'Beautifully', 'made', 'large', 'chimpanzee', 'Entertaining', 'fun', 'Interesting', 'corgi', 'bostin', 'defender', '90', 'Brilliant', 'Five', 'Stars', 'Fantastic', 'model', '10', 'Super', 'bateau', 'Five', 'Stars', 'Brilliant', 'Van', 'Good', 'mortified', 'Five', 'Stars', 'My', '7', 'Joggle', 'Went', 'Fantastic', 'Game', 'Thomas', 'game', 'hello', 'kitty', 'Not', 'happy', 'Christmas', 'presents', 'teach', 'Everything', 'Mexican', 'trains', 'Educational', 'great', 'game', 'Harmless', 'fun', 'spots', 'The', 'new', 'Happy', 'families', 'Educational', 'Much', 'Great', 'fun', 'good', 'game', 'Great', 'Godzilla', 'Would', 'Amazing', 'Attention', 'Good', 'gift', 'Cool', 'figure', 'Not', 'Bad', 'Best', 'Arnold', 'Iron', 'man', 'A', 'lovely', 'Fab', 'purchase', 'Five', 'Stars', 'Making', 'Snowflakes', 'AWESOME', 'GAME', 'would', 'recommend', 'Great', 'game', 'Domino', 'Racks', 'Four', 'Stars', 'Hours', 'Simply']\n"
          ],
          "name": "stdout"
        }
      ]
    },
    {
      "cell_type": "markdown",
      "metadata": {
        "id": "DSwbA0yArc8o",
        "colab_type": "text"
      },
      "source": [
        "Use stemming/lemmatization. There are several options, so [read the docs](https://www.datacamp.com/community/tutorials/stemming-lemmatization-python)."
      ]
    },
    {
      "cell_type": "markdown",
      "metadata": {
        "id": "dREFwmX1-W6G",
        "colab_type": "text"
      },
      "source": [
        "**STEMMING**"
      ]
    },
    {
      "cell_type": "code",
      "metadata": {
        "id": "_eMqAETM3XHb",
        "colab_type": "code",
        "colab": {}
      },
      "source": [
        ""
      ],
      "execution_count": 0,
      "outputs": []
    },
    {
      "cell_type": "code",
      "metadata": {
        "id": "Ms9UsQcjseWd",
        "colab_type": "code",
        "outputId": "7d1dd37f-a000-4ae1-d7d0-1682a1b40682",
        "colab": {
          "base_uri": "https://localhost:8080/",
          "height": 54
        }
      },
      "source": [
        "# your code here\n",
        "from nltk.stem.lancaster import LancasterStemmer\n",
        "st=LancasterStemmer()\n",
        "stemmedwords=[st.stem(word) for word in stopwords]\n",
        "print(stemmedwords)"
      ],
      "execution_count": 17,
      "outputs": [
        {
          "output_type": "stream",
          "text": [
            "['wor', 'buy', 'high', 'recommend', 'beauty', 'set', 'fiv', 'star', 'fiv', 'star', 'gre', 'valu', 'horny', 'r1138', 'so', 'cheap', 'excel', 'gre', 'train', 'h0', 'mehano', 'lot', 'gre', 'star', 'lot', 'port', 'gre', 'compon', 'my', 'happy', 'fiv', 'star', 'endless', 'poss', 'fiv', 'star', 'bril', 'someth', 'fantast', 'produc', 'dar', 'vad', 'superb', 'qual', 'ov', 'thumb', 'fiv', 'star', 'i', 'think', 'beauty', 'kenwor', 'gre', 'bik', 'the', 'he', 'must', 'best', 'class', 'good', 'fun', 'a', 'high', 'now', 'four', 'star', 'batcav', 'review', 'anoth', 'miss', 'she', 'seem', 'ep', 'surpr', 'thi', 'hour', 'fiv', 'star', 'a', 'gre', 'loom', 'fantast', 'valu', 'easel', 'pap', 'x', 'cut', 'holiday', 'fun', 'on', 'lov', 'what', 'gre', 'toy', 'good', 'compact', 'som', 'best', 'paddl', 'corneli', 'alph', 'troop', 'gre', 'gre', 'gre', 'bew', 'dirty', 'wat', 'qual', 'control', 'both', 'noodl', 'woggl', 'good', 'bril', 'armband', 'sturdy', 'excel', 'doe', 'fantast', 'item', 'lov', 'good', 'gre', 'absolv', 'happy', 'kid', 'easy', 'set', 'thi', 'produc', 'gre', 'fiv', 'star', 'very', 'good', 'good', 'fit', 'recommend', 'the', 'childr', 'tattoo', 'read', 'very', 'smal', 'fiv', 'star', 'unless', 'carrer', 'rc', 'i', 'gre', 'start', 'good', 'purchas', 'sup', 'fast', 'my', 'son', 'both', 'son', 'a', 'gre', 'rock', 'good', 'for', 'fiv', 'star', 'gre', 'produc', 'grandson', 'dec', 'buy', 'card', 'mad', 'the', 'champ', 'fiv', 'star', 'good', 'produc', 'fiv', 'star', 'fiv', 'star', 'cheap', 'bought', 'would', 'got', 'sur', 'fiv', 'star', 'gre', 'gre', 'produc', 'not', 'look', 'good', 'qual', 'four', 'star', 'fiv', 'star', 'ok', 'qual', 'sup', 'fast', 'balloon', 'fin', 'model', 'balloon', 'perfect', 'diy', 'excel', 'cap', 'out', 'good', 'very', 'good', 'gre', 'valu', 'good', 'valu', 'very', 'quick', 'pow', 'rang', 'good', 'cloak', 'got', 'good', 'fiv', 'star', 'bad', 'overal', 'king', 'gre', 'buy', 'no', 'way', 'ar', 'not', 'citro', 'gre', 'quadtrac', 'gre', 'car', 'fiv', 'star', 'excit', 'very', 'good', 'gre', 'bit', 'gre', 'kit', 'fiv', 'star', 'churchil', 'tank', 'tamiy', 'hanom', 'best', 'fiv', 'star', 'fiv', 'star', 'just', 'going', 'party', 'ey', 'wil', 'serv', 'nic', 'sculpt', 'not', 'gre', 'toy', 'movy', 'acc', 'a', 'gre', 'four', 'year', 'fiv', 'star', 'he', 'lov', 'bought', 'lov', 'exact', 'hav', 'thi', 'good', 'valu', 'fly', 'around', 'much', 'lov', 'brud', 'new', 'look', 'batmobl', 'fab', 'mil', 'rc', 'much', 'lov', 'it', 'look', 'fiv', 'star', 'recommend', 'colo', 'chang', 'car', 'car', 'fair', 'poor', 'ok', 'amaz', 'toy', 'pack', 'car', 'gre', 'gift', 'dragon', '2', 'show', 'fak', 'smal', 'nic', 'gorg', 'lov', 'it', 'mak', 'good', 'qual', 'easy', 'bril', 'pres', 'pink', 'honey', 'bear', 'puppet', 'mag', 'lov', 'gre', 'puppet', 'fab', 'toy', 'fantast', 'hand', 'easy', 'a', 'lov', 'eleph', 'hand', 'for', 'smal', 'monst', 'fun', 'happy', 'bound', 'pleas', 'surpr', 'otherw', 'us', 'gre', 'produc', 'perfect', 'party', 'a', 'stim', 'good', 'cub', 'amaz', 'maz', 'fiv', 'star', 'mus', 'perfect', 'gre', 'item', 'pink', 'bunt', 'gre', 'item', 'ok', 'just', 'meg', 'charizard', 'card', 'review', 'load', 'beauty', 'card', 'larg', 'yvelt', 'ex', 'gre', 'valu', 'three', 'star', 'fiv', 'star', 'light', 'real', 'good', 'many', 'laugh', 'fiv', 'star', 'good', 'set', 'fiv', 'star', 'uno', 'produc', 'the', 'best', 'fiv', 'star', 'hour', 'wheel', 'bril', 'nic', 'card', 'awesom', 'produc', 'gre', 'qual', 'ish', 'kato', 'tram', 'excel', 'produc', 'london', 'wood', 'real', 'gre', 'tt', 'top', 'fiv', 'star', 'fiv', 'star', 'emek', 'scan', 'nic', 'class', 'bmw', 'z4', 'bburago', '1', '007', 'heav', 'it', 'look', 'vesp', 'scoot', 'three', 'star', 'gre', 'magnet', 'very', 'happy', 'playmobl', 'ind', 'wel', 'mad', 'four', 'star', 'happy', 'littl', 'set', 'dinosa', 'fun', 'a', 'gre', 'choos', 'thank', 'but', 'work', 'nic', 'the', 'headless', 'gre', 'item', 'new', 'knight', 'ood', 'gre', 'set', 'good', 'qual', 'pol', 'wol', 'buy', 'wel', 'mad', 'party', 'favo', 'satisfact', 'art', 'set', 'us', 'sup', 'fun', 'hour', 'the', 'girl', 'best', 'kiddy', 'fiv', 'star', 'my', 'daught', 'just', 'excel', 'qual', 'bril', 'mark', 'bril', 'top', 'pencil', 'doe', 'littl', 'thing', 'my', 'daught', 'perfect', 'toy', 'let', 'easy', 'her', 'bril', 'jess', 'excel', 'produc', 'pric', 'gre', 'toy', 'gre', 'gre', 'produc', 'fiv', 'star', 'boss', 'thi', 'gre', 'model', 'fiv', 'star', 'light', 'perfect', 'pinwheel', 'mag', 'four', 'star', 'i', 'model', 'gre', 'produc', 'fiv', 'star', 'a', 'gre', 'holiday', 'heav', 'kit', 'fly', 'fantast', 'kit', 'a', 'real', 'easy', 'superb', 'handl', 'compact', 'my', 'third', 'favourit', 'toy', 'best', 'toy', 'mor', 'greas', 'fiv', 'star', 'lov', 'ear', 'wond', 'kid', 'jigsaw', 'real', 'sturdy', 'a', 'robust', 'son', 'gift', 'remind', 'lov', 'littl', 'john', 'deer', 'excel', 'model', 'fiv', 'star', 'bit', 'ferrar', 'fantast', 'sturdy', 'ok', 'good', 'qual', 'pow', 'load', 'lov', 'littl', 'fantast', 'train', 'doesnt', 'fit', 'brio', '33097', 'thoma', 'lov', 'paint', 'the', 'sound', 'anoth', 'gre', 'an', 'excel', 'diesel', '10', 'big', 'red', 'superb', 'grandson', 'mobl', 'cargo', 'fiv', 'star', 'hiro', 'a', 'gre', 'fiv', 'star', 'grandson', 'lov', 'port', 'just', 'bril', 'tip', 'trail', 'good', 'qual', 'mad', 'gre', 'valu', 'hour', 'excel', 'gam', 'hour', 'dream', 'castl', 'lov', 'handmad', 'fiv', 'star', '30', 'inch', 'gre', 'talk', 'wel', 'mad', 'recipy', 'much', 'smal', 'gre', 'toy', 'econom', 'post', 'daryl', 'dixon', 'fiv', 'star', 'fiv', 'star', 'fiv', 'star', 'skyward', 'sword', 'thes', 'hulk', 'fiv', 'star', 'two', 'star', 'it', 'lov', 'gift', 'a', 'gre', 'solid', 'build', 'fun', 'toy', 'dang', 'cord', 'a', 'midget', 'real', 'wel', 'gift', 'lov', 'qual', 'fiv', 'star', 'beauty', 'mad', 'larg', 'chimpanz', 'entertain', 'fun', 'interest', 'corg', 'bostin', 'defend', '90', 'bril', 'fiv', 'star', 'fantast', 'model', '10', 'sup', 'bateau', 'fiv', 'star', 'bril', 'van', 'good', 'mort', 'fiv', 'star', 'my', '7', 'joggl', 'went', 'fantast', 'gam', 'thoma', 'gam', 'hello', 'kitty', 'not', 'happy', 'christmas', 'pres', 'teach', 'everyth', 'mex', 'train', 'educ', 'gre', 'gam', 'harmless', 'fun', 'spot', 'the', 'new', 'happy', 'famy', 'educ', 'much', 'gre', 'fun', 'good', 'gam', 'gre', 'godzill', 'would', 'amaz', 'at', 'good', 'gift', 'cool', 'fig', 'not', 'bad', 'best', 'arnold', 'iron', 'man', 'a', 'lov', 'fab', 'purchas', 'fiv', 'star', 'mak', 'snowflak', 'awesom', 'gam', 'would', 'recommend', 'gre', 'gam', 'domino', 'rack', 'four', 'star', 'hour', 'simply']\n"
          ],
          "name": "stdout"
        }
      ]
    },
    {
      "cell_type": "markdown",
      "metadata": {
        "id": "VfNQbTaZ-pzF",
        "colab_type": "text"
      },
      "source": [
        "**LEMMATIZATION**"
      ]
    },
    {
      "cell_type": "code",
      "metadata": {
        "id": "Ir5QltDO84Y0",
        "colab_type": "code",
        "colab": {}
      },
      "source": [
        "from nltk.stem import PorterStemmer\n",
        "from nltk.stem import LancasterStemmer"
      ],
      "execution_count": 0,
      "outputs": []
    },
    {
      "cell_type": "code",
      "metadata": {
        "id": "fiiVlBVL7jgk",
        "colab_type": "code",
        "colab": {
          "base_uri": "https://localhost:8080/",
          "height": 88
        },
        "outputId": "464c659d-9e5c-4d4b-dc6e-d960925e6b1d"
      },
      "source": [
        "nltk.download('wordnet')\n",
        "from nltk.stem import WordNetLemmatizer\n",
        "def get_lemma(words):\n",
        "  wordnet_lemmatizer=WordNetLemmatizer()\n",
        "  l=[]\n",
        "  for word in words:\n",
        "    l.append(wordnet_lemmatizer.lemmatize(word))\n",
        "  print(l)\n",
        "get_lemma(stopwords)\n",
        "\n",
        "\n",
        "\n"
      ],
      "execution_count": 19,
      "outputs": [
        {
          "output_type": "stream",
          "text": [
            "[nltk_data] Downloading package wordnet to /root/nltk_data...\n",
            "[nltk_data]   Unzipping corpora/wordnet.zip.\n",
            "['Worth', 'Buying', 'Highly', 'Recommended', 'Beautiful', 'set', 'Five', 'Stars', 'Five', 'Stars', 'Great', 'value', 'Horny', 'R1138', 'So', 'cheap', 'Excellent', 'Great', 'train', 'H0', 'Mehano', 'lot', 'great', 'star', 'Lots', 'portable', 'Great', 'component', 'My', 'happy', 'Five', 'Stars', 'Endless', 'possibility', 'Five', 'Stars', 'brilliant', 'something', 'fantastic', 'product', 'Darth', 'Vader', 'Superb', 'Quality', 'Over', 'Thumbs', 'Five', 'Stars', 'I', 'think', 'Beautiful', 'Kenworth', 'Great', 'bike', 'The', 'He', 'must', 'Best', 'classic', 'Good', 'fun', 'A', 'highly', 'Now', 'Four', 'Stars', 'Batcave', 'review', 'Another', 'Missed', 'She', 'seems', 'EPIC', 'SURPRISE', 'This', 'Hours', 'Five', 'Stars', 'A', 'great', 'loom', 'Fantastic', 'value', 'easel', 'paper', 'X', 'Cut', 'Holiday', 'fun', 'One', 'loved', 'What', 'Great', 'toy', 'good', 'compact', 'Some', 'Best', 'paddling', 'Cornelius', 'alpha', 'trooper', 'Great', 'Great', 'great', 'Beware', 'Dirty', 'Water', 'quality', 'control', 'bother', 'Noodle', 'Woggle', 'Good', 'brill', 'armband', 'sturdy', 'Excellent', 'Does', 'FANTASTIC', 'ITEM', 'Love', 'good', 'Great', 'absolutely', 'Happy', 'kid', 'easy', 'set', 'This', 'product', 'Great', 'Five', 'Stars', 'Very', 'good', 'Good', 'fit', 'recommend', 'The', 'child', 'Tattoos', 'read', 'Very', 'small', 'Five', 'Stars', 'Unless', 'Carrera', 'RC', 'I', 'Great', 'Starter', 'good', 'purchase', 'Super', 'Fast', 'My', 'son', 'Both', 'son', 'A', 'great', 'Rock', 'Good', 'For', 'Five', 'Stars', 'Great', 'product', 'grandson', 'Decent', 'Buy', 'Cards', 'mad', 'The', 'Champions', 'Five', 'Stars', 'Good', 'product', 'Five', 'Stars', 'Five', 'Stars', 'Cheap', 'Bought', 'would', 'got', 'sure', 'Five', 'Stars', 'Great', 'Great', 'product', 'Not', 'Looks', 'Good', 'quality', 'Four', 'Stars', 'Five', 'Stars', 'OK', 'quality', 'super', 'fast', 'balloon', 'fine', 'Modelling', 'balloon', 'Perfect', 'DIY', 'Excellent', 'cape', 'Outrageously', 'good', 'Very', 'good', 'Great', 'value', 'Good', 'value', 'Very', 'quick', 'power', 'ranger', 'Good', 'cloak', 'Got', 'Good', 'Five', 'Stars', 'Bad', 'overall', 'King', 'Great', 'buy', 'No', 'way', 'Are', 'Not', 'citroen', 'Great', 'Quadtrac', 'Great', 'Car', 'Five', 'Stars', 'Excitement', 'Very', 'good', 'Great', 'bit', 'great', 'kit', 'Five', 'Stars', 'churchill', 'tank', 'Tamiya', 'Hanomag', 'Best', 'Five', 'Stars', 'Five', 'Stars', 'Just', 'Going', 'Party', 'Eye', 'Will', 'serve', 'Nice', 'sculpt', 'Not', 'Great', 'Toy', 'Movie', 'accurate', 'A', 'great', 'Four', 'year', 'Five', 'Stars', 'He', 'loved', 'bought', 'Love', 'Exactly', 'Have', 'This', 'Good', 'value', 'Fly', 'around', 'Much', 'loved', 'Bruder', 'New', 'looking', 'batmobile', 'Fab', 'mile', 'RC', 'Much', 'loved', 'It', 'look', 'Five', 'Stars', 'Recommended', 'Colour', 'changing', 'Cars', 'car', 'Fairly', 'poor', 'OK', 'Amazing', 'toy', 'pack', 'car', 'Great', 'gift', 'dragon', '2', 'showed', 'Fake', 'Small', 'nice', 'gorgeous', 'Love', 'It', 'Make', 'Good', 'quality', 'Easy', 'Brilliant', 'Present', 'Pink', 'honey', 'bear', 'puppet', 'magic', 'Loved', 'Great', 'puppet', 'Fabulous', 'toy', 'Fantastic', 'hand', 'Easy', 'A', 'lovely', 'Elephant', 'hand', 'For', 'small', 'Monstrous', 'Fun', 'Happy', 'Bound', 'Pleasantly', 'surprised', 'otherwise', 'Used', 'Great', 'product', 'Perfect', 'Party', 'A', 'stimulating', 'Good', 'cube', 'Amazing', 'Maze', 'Five', 'Stars', 'Music', 'Perfect', 'great', 'item', 'pink', 'bunting', 'Great', 'item', 'ok', 'Just', 'Mega', 'Charizard', 'Card', 'Review', 'Loads', 'Beautiful', 'card', 'larger', 'yveltal', 'ex', 'Great', 'Value', 'Three', 'Stars', 'Five', 'Stars', 'Light', 'Really', 'good', 'Many', 'laugh', 'Five', 'Stars', 'Good', 'set', 'Five', 'Stars', 'Uno', 'Product', 'The', 'best', 'Five', 'Stars', 'Hours', 'Wheel', 'brilliant', 'Nice', 'card', 'Awesome', 'product', 'Great', 'quality', 'ish', 'KATO', 'TRAM', 'Excellent', 'Product', 'London', 'Wooden', 'Really', 'great', 'TT', 'top', 'Five', 'Stars', 'Five', 'Stars', 'Emek', 'Scania', 'Nice', 'Class', 'BMW', 'Z4', 'Bburago', '1', '007', 'heaven', 'It', 'look', 'Vespa', 'Scooter', 'Three', 'Stars', 'Great', 'Magnets', 'Very', 'happy', 'Playmobil', 'Indian', 'Well', 'made', 'Four', 'Stars', 'Happy', 'little', 'Set', 'Dinosaur', 'fun', 'A', 'great', 'choose', 'Thank', 'But', 'work', 'nice', 'The', 'Headless', 'Great', 'item', 'new', 'knight', 'Ood', 'great', 'set', 'Good', 'Quality', 'Polly', 'wolly', 'buy', 'Well', 'made', 'Party', 'favour', 'Satisfactory', 'Art', 'set', 'use', 'Super', 'fun', 'Hours', 'The', 'girl', 'Best', 'kiddy', 'Five', 'Stars', 'My', 'daughter', 'Just', 'Excellent', 'quality', 'Brilliant', 'marker', 'Brilliant', 'TOP', 'Pencils', 'Does', 'Little', 'thing', 'My', 'daughter', 'Perfect', 'Toy', 'Let', 'Easy', 'Her', 'Brilliant', 'Jess', 'Excellent', 'product', 'priced', 'Great', 'toy', 'Great', 'Great', 'product', 'Five', 'Stars', 'BOSS', 'This', 'Great', 'Model', 'Five', 'Stars', 'Light', 'Perfect', 'Pinwheel', 'Magic', 'Four', 'Stars', 'I', 'Modelling', 'Great', 'product', 'Five', 'Stars', 'A', 'great', 'Holiday', 'heaven', 'kite', 'flying', 'Fantastic', 'kite', 'A', 'really', 'Easy', 'Superb', 'handling', 'Compacts', 'My', 'third', 'Favourite', 'toy', 'Best', 'Toy', 'More', 'Grease', 'Five', 'Stars', 'Lovely', 'early', 'Wonderful', 'Kids', 'Jigsaw', 'Really', 'sturdy', 'A', 'robustly', 'son', 'Gift', 'reminder', 'Lovely', 'little', 'John', 'Deere', 'Excellent', 'model', 'Five', 'Stars', 'bit', 'Ferrari', 'Fantastic', 'sturdy', 'Ok', 'Good', 'quality', 'Power', 'Loader', 'lovely', 'little', 'Fantastic', 'train', 'Doesnt', 'fit', 'Brio', '33097', 'thomas', 'lovely', 'painted', 'The', 'sound', 'Another', 'great', 'An', 'excellent', 'Diesel', '10', 'Big', 'Red', 'Superb', 'grandson', 'Mobile', 'cargo', 'Five', 'Stars', 'Hiro', 'A', 'great', 'Five', 'Stars', 'Grandson', 'love', 'portable', 'Just', 'brilliant', 'Tipping', 'Trailer', 'Good', 'quality', 'Made', 'Great', 'value', 'Hours', 'Excellent', 'game', 'Hours', 'Dream', 'castle', 'Lovely', 'handmade', 'Five', 'Stars', '30', 'inch', 'Great', 'talking', 'Well', 'made', 'recipient', 'Much', 'smaller', 'Great', 'toy', 'Economical', 'postage', 'Daryl', 'Dixon', 'Five', 'Stars', 'Five', 'Stars', 'Five', 'Stars', 'Skyward', 'Sword', 'These', 'Hulk', 'Five', 'Stars', 'Two', 'Stars', 'It', 'Lovely', 'gift', 'A', 'great', 'Solid', 'Build', 'fun', 'toy', 'Dangerous', 'cord', 'A', 'midget', 'Really', 'well', 'Gift', 'Lovely', 'quality', 'Five', 'Stars', 'Beautifully', 'made', 'large', 'chimpanzee', 'Entertaining', 'fun', 'Interesting', 'corgi', 'bostin', 'defender', '90', 'Brilliant', 'Five', 'Stars', 'Fantastic', 'model', '10', 'Super', 'bateau', 'Five', 'Stars', 'Brilliant', 'Van', 'Good', 'mortified', 'Five', 'Stars', 'My', '7', 'Joggle', 'Went', 'Fantastic', 'Game', 'Thomas', 'game', 'hello', 'kitty', 'Not', 'happy', 'Christmas', 'present', 'teach', 'Everything', 'Mexican', 'train', 'Educational', 'great', 'game', 'Harmless', 'fun', 'spot', 'The', 'new', 'Happy', 'family', 'Educational', 'Much', 'Great', 'fun', 'good', 'game', 'Great', 'Godzilla', 'Would', 'Amazing', 'Attention', 'Good', 'gift', 'Cool', 'figure', 'Not', 'Bad', 'Best', 'Arnold', 'Iron', 'man', 'A', 'lovely', 'Fab', 'purchase', 'Five', 'Stars', 'Making', 'Snowflakes', 'AWESOME', 'GAME', 'would', 'recommend', 'Great', 'game', 'Domino', 'Racks', 'Four', 'Stars', 'Hours', 'Simply']\n"
          ],
          "name": "stdout"
        }
      ]
    },
    {
      "cell_type": "markdown",
      "metadata": {
        "id": "35qEoH5QsN68",
        "colab_type": "text"
      },
      "source": [
        "Find the first 100 most important words, i.e. most frequently used words and plot them using FreqDist plot in nltk. See the sample colab file given during class. Note your observations."
      ]
    },
    {
      "cell_type": "code",
      "metadata": {
        "id": "6CgoOWcNr3a9",
        "colab_type": "code",
        "colab": {}
      },
      "source": [
        "# your code here\n",
        "import matplotlib.pyplot as plt\n",
        "from nltk.probability import FreqDist\n",
        "\n",
        "def plot_freq_dist(words,num_words=30):\n",
        "  fdist=FreqDist(stopwords)\n",
        "  fdist.plot(num_words,cumulative=False)\n"
      ],
      "execution_count": 0,
      "outputs": []
    },
    {
      "cell_type": "markdown",
      "metadata": {
        "id": "8hnS8Y3c_JVu",
        "colab_type": "text"
      },
      "source": [
        "**FREQUENCY DISTRIBUTION PLOT**"
      ]
    },
    {
      "cell_type": "code",
      "metadata": {
        "id": "h_sV6AQ3CuIW",
        "colab_type": "code",
        "outputId": "5f4eff4f-3b98-431e-a012-2ddc6fd4c755",
        "colab": {
          "base_uri": "https://localhost:8080/",
          "height": 315
        }
      },
      "source": [
        "plot_freq_dist(words[0],num_words=30)"
      ],
      "execution_count": 0,
      "outputs": [
        {
          "output_type": "display_data",
          "data": {
            "image/png": "[encoded data removed]",
            "text/plain": [
              "<Figure size 432x288 with 1 Axes>"
            ]
          },
          "metadata": {
            "tags": [],
            "needs_background": "light"
          }
        }
      ]
    },
    {
      "cell_type": "markdown",
      "metadata": {
        "id": "4zIyAU3br2wx",
        "colab_type": "text"
      },
      "source": [
        "Create another column called TFIDF and use the nlpreview to construct tfidf in this newly created column"
      ]
    },
    {
      "cell_type": "code",
      "metadata": {
        "id": "L4Lleq3Q6mP9",
        "colab_type": "code",
        "colab": {}
      },
      "source": [
        "import sklearn\n",
        "from sklearn.feature_extraction.text import CountVectorizer\n",
        "\n",
        "def get_bag_of_words(sentences):\n",
        "    vectorizer = CountVectorizer()\n",
        "    print(vectorizer.fit_transform(sentences).todense())\n",
        "    print(vectorizer.vocabulary_) \n",
        "    print(vectorizer.get_feature_names())"
      ],
      "execution_count": 0,
      "outputs": []
    },
    {
      "cell_type": "code",
      "metadata": {
        "id": "-NxDlX_Osgyu",
        "colab_type": "code",
        "colab": {}
      },
      "source": [
        "# your code here\n",
        "from sklearn.feature_extraction.text import TfidfVectorizer\n",
        "vectorizer = TfidfVectorizer(stop_words='english')\n",
        "input=[input]\n",
        "X=vectorizer.fit_transform(s)"
      ],
      "execution_count": 0,
      "outputs": []
    },
    {
      "cell_type": "code",
      "metadata": {
        "id": "6ROI9o0R5pv5",
        "colab_type": "code",
        "colab": {}
      },
      "source": [
        "count_vec = CountVectorizer(stop_words=\"english\", analyzer='word')\n",
        "count_train = count_vec.fit(s)\n",
        "bag_of_words = count_vec.transform(s)"
      ],
      "execution_count": 0,
      "outputs": []
    },
    {
      "cell_type": "code",
      "metadata": {
        "id": "nA3kBAus1Zrd",
        "colab_type": "code",
        "colab": {
          "base_uri": "https://localhost:8080/",
          "height": 51
        },
        "outputId": "262d2c5a-05e7-49ad-ddda-a21b17ee15fa"
      },
      "source": [
        "vectorizer.fit_transform(s)"
      ],
      "execution_count": 30,
      "outputs": [
        {
          "output_type": "execute_result",
          "data": {
            "text/plain": [
              "<511x326 sparse matrix of type '<class 'numpy.float64'>'\n",
              "\twith 664 stored elements in Compressed Sparse Row format>"
            ]
          },
          "metadata": {
            "tags": []
          },
          "execution_count": 30
        }
      ]
    },
    {
      "cell_type": "markdown",
      "metadata": {
        "id": "RSd6jz2YskxQ",
        "colab_type": "text"
      },
      "source": [
        "Find the top 100 words with maximum TF IDF score and plot it. Note your observations and see how different it is from the Top 100 highest frequency words."
      ]
    },
    {
      "cell_type": "markdown",
      "metadata": {
        "id": "unOAXitFtDp6",
        "colab_type": "text"
      },
      "source": [
        "Use KMeans clustering to apply clustering to this TFIDF column. Find optimal number of clusters using elbow plot and note your observations for the optimal clusters."
      ]
    },
    {
      "cell_type": "code",
      "metadata": {
        "id": "wCvwQA-G8Zc6",
        "colab_type": "code",
        "colab": {}
      },
      "source": [
        "from sklearn .cluster import KMeans\n",
        "k=KMeans(n_clusters=3,init='k-means++',max_iter=100,n_init=1,verbose=True)"
      ],
      "execution_count": 0,
      "outputs": []
    },
    {
      "cell_type": "code",
      "metadata": {
        "id": "-3VeNhlhtUe_",
        "colab_type": "code",
        "colab": {}
      },
      "source": [
        "# Your code here\n",
        "k.fit(s)"
      ],
      "execution_count": 0,
      "outputs": []
    },
    {
      "cell_type": "code",
      "metadata": {
        "id": "CD__UUZ282Re",
        "colab_type": "code",
        "colab": {}
      },
      "source": [
        ""
      ],
      "execution_count": 0,
      "outputs": []
    },
    {
      "cell_type": "markdown",
      "metadata": {
        "id": "gQvXpTJnI5LP",
        "colab_type": "text"
      },
      "source": [
        "# visualize your clusters\n",
        " Let us use word cloud visualization."
      ]
    },
    {
      "cell_type": "code",
      "metadata": {
        "id": "LAH1qQV8I4fr",
        "colab_type": "code",
        "colab": {}
      },
      "source": [
        "from wordcloud import WordCloud\n",
        "import matplotlib.pyplot as plt \n",
        "def plotwordcloud(words):\n",
        "  wordcloud = WordCloud(width=800, height=500, random_state=21, max_font_size=110).generate(words) \n",
        "  plt.figure(figsize=(10, 7)) \n",
        "  plt.imshow(wordcloud, interpolation=\"bilinear\") \n",
        "  plt.axis('off') \n",
        "  plt.show()"
      ],
      "execution_count": 0,
      "outputs": []
    },
    {
      "cell_type": "code",
      "metadata": {
        "id": "_81bmQX2JMYj",
        "colab_type": "code",
        "colab": {}
      },
      "source": [
        "# your code here to call plotwordcloud for concatenated word set of each cluster. You need to find all words of a cluster and create a set."
      ],
      "execution_count": 0,
      "outputs": []
    },
    {
      "cell_type": "markdown",
      "metadata": {
        "id": "RLuyMquVRb0D",
        "colab_type": "text"
      },
      "source": [
        "You can analyze the outcomes. See what threshold you want to pick!"
      ]
    }
  ]
}